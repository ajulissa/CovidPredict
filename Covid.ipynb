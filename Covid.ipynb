{
  "nbformat": 4,
  "nbformat_minor": 0,
  "metadata": {
    "language_info": {
      "codemirror_mode": {
        "name": "ipython",
        "version": 3
      },
      "file_extension": ".py",
      "mimetype": "text/x-python",
      "name": "python",
      "nbconvert_exporter": "python",
      "pygments_lexer": "ipython3",
      "version": "3.7.5"
    },
    "orig_nbformat": 4,
    "kernelspec": {
      "name": "python3",
      "display_name": "Python 3.7.5 64-bit ('juli1': conda)"
    },
    "interpreter": {
      "hash": "55ebb47774802382452e7580af98e8a28ab13acaa1ff0daa824ab1177d1ff099"
    },
    "colab": {
      "name": "Covid.ipynb",
      "provenance": [],
      "collapsed_sections": []
    }
  },
  "cells": [
    {
      "cell_type": "code",
      "metadata": {
        "id": "ZTsnKbswEEUq"
      },
      "source": [
        "import pandas as pd\n",
        "#import numpy as np\n",
        "import matplotlib.pyplot as plt"
      ],
      "execution_count": null,
      "outputs": []
    },
    {
      "cell_type": "code",
      "metadata": {
        "colab": {
          "base_uri": "https://localhost:8080/"
        },
        "id": "v8gxvMW8ExCA",
        "outputId": "cb5af7f7-1c3d-451c-dda2-718859566734"
      },
      "source": [
        "!git clone https://github.com/ajulissa/CovidPredict.git"
      ],
      "execution_count": null,
      "outputs": [
        {
          "output_type": "stream",
          "text": [
            "Cloning into 'CovidPredict'...\n",
            "remote: Enumerating objects: 49, done.\u001b[K\n",
            "remote: Counting objects: 100% (49/49), done.\u001b[K\n",
            "remote: Compressing objects: 100% (39/39), done.\u001b[K\n",
            "remote: Total 49 (delta 20), reused 25 (delta 9), pack-reused 0\u001b[K\n",
            "Unpacking objects: 100% (49/49), done.\n"
          ],
          "name": "stdout"
        }
      ]
    },
    {
      "cell_type": "code",
      "metadata": {
        "id": "lePUe85MEEUr",
        "colab": {
          "base_uri": "https://localhost:8080/"
        },
        "outputId": "46026009-2c39-40fb-a6dd-4065b4bb9600"
      },
      "source": [
        "%cd CovidPredict"
      ],
      "execution_count": null,
      "outputs": [
        {
          "output_type": "stream",
          "text": [
            "/content/CovidPredict/CovidPredict/CovidPredict\n"
          ],
          "name": "stdout"
        }
      ]
    },
    {
      "cell_type": "code",
      "metadata": {
        "colab": {
          "base_uri": "https://localhost:8080/"
        },
        "id": "zKMNES4ZXD4k",
        "outputId": "c68ef6d1-20c5-455b-8108-f2673dc2b25c"
      },
      "source": [
        "!unzip covidTested_v0083.zip"
      ],
      "execution_count": null,
      "outputs": [
        {
          "output_type": "stream",
          "text": [
            "Archive:  covidTested_v0083.zip\n",
            "  inflating: covidTested_v0083.csv   \n"
          ],
          "name": "stdout"
        }
      ]
    },
    {
      "cell_type": "code",
      "metadata": {
        "colab": {
          "base_uri": "https://localhost:8080/"
        },
        "id": "68K6Yh5AXAcT",
        "outputId": "e0fbc610-1b30-4f9b-ed77-c6b0a8e68e78"
      },
      "source": [
        "!ls"
      ],
      "execution_count": null,
      "outputs": [
        {
          "output_type": "stream",
          "text": [
            "check_transparente.png\n",
            "Covid.ipynb\n",
            "covidTested_v0083.csv\n",
            "covidTested_v0083.zip\n",
            "estilos.css\n",
            "funciones.js\n",
            "index.html\n",
            "README.md\n",
            "transparent-check-icon-5db805b5b53aa6.4845664315723411737423.png\n"
          ],
          "name": "stdout"
        }
      ]
    },
    {
      "cell_type": "code",
      "metadata": {
        "colab": {
          "base_uri": "https://localhost:8080/",
          "height": 453
        },
        "id": "zlR0VPp6EEUt",
        "outputId": "0fadd648-6b43-4e21-879e-e363492f354b"
      },
      "source": [
        "df0083 = pd.read_csv('./covidTested_v0083.csv')\n",
        "df0083"
      ],
      "execution_count": null,
      "outputs": [
        {
          "output_type": "stream",
          "text": [
            "/usr/local/lib/python3.7/dist-packages/IPython/core/interactiveshell.py:2718: DtypeWarning: Columns (7) have mixed types.Specify dtype option on import or set low_memory=False.\n",
            "  interactivity=interactivity, compiler=compiler, result=result)\n"
          ],
          "name": "stderr"
        },
        {
          "output_type": "execute_result",
          "data": {
            "text/html": [
              "<div>\n",
              "<style scoped>\n",
              "    .dataframe tbody tr th:only-of-type {\n",
              "        vertical-align: middle;\n",
              "    }\n",
              "\n",
              "    .dataframe tbody tr th {\n",
              "        vertical-align: top;\n",
              "    }\n",
              "\n",
              "    .dataframe thead th {\n",
              "        text-align: right;\n",
              "    }\n",
              "</style>\n",
              "<table border=\"1\" class=\"dataframe\">\n",
              "  <thead>\n",
              "    <tr style=\"text-align: right;\">\n",
              "      <th></th>\n",
              "      <th>fecha</th>\n",
              "      <th>tos</th>\n",
              "      <th>fiebre</th>\n",
              "      <th>dolor_de_garganta</th>\n",
              "      <th>dificultad_para_respirar</th>\n",
              "      <th>dolor_de_cabeza</th>\n",
              "      <th>resultado</th>\n",
              "      <th>sesenta_mas</th>\n",
              "      <th>sexo</th>\n",
              "      <th>indicaciones</th>\n",
              "    </tr>\n",
              "  </thead>\n",
              "  <tbody>\n",
              "    <tr>\n",
              "      <th>0</th>\n",
              "      <td>2020-11-12</td>\n",
              "      <td>0</td>\n",
              "      <td>0</td>\n",
              "      <td>0</td>\n",
              "      <td>0</td>\n",
              "      <td>0</td>\n",
              "      <td>negative</td>\n",
              "      <td>No</td>\n",
              "      <td>male</td>\n",
              "      <td>Other</td>\n",
              "    </tr>\n",
              "    <tr>\n",
              "      <th>1</th>\n",
              "      <td>2020-11-12</td>\n",
              "      <td>0</td>\n",
              "      <td>1</td>\n",
              "      <td>0</td>\n",
              "      <td>0</td>\n",
              "      <td>0</td>\n",
              "      <td>negative</td>\n",
              "      <td>No</td>\n",
              "      <td>male</td>\n",
              "      <td>Other</td>\n",
              "    </tr>\n",
              "    <tr>\n",
              "      <th>2</th>\n",
              "      <td>2020-11-12</td>\n",
              "      <td>0</td>\n",
              "      <td>0</td>\n",
              "      <td>0</td>\n",
              "      <td>0</td>\n",
              "      <td>0</td>\n",
              "      <td>negative</td>\n",
              "      <td>Yes</td>\n",
              "      <td>female</td>\n",
              "      <td>Other</td>\n",
              "    </tr>\n",
              "    <tr>\n",
              "      <th>3</th>\n",
              "      <td>2020-11-12</td>\n",
              "      <td>0</td>\n",
              "      <td>0</td>\n",
              "      <td>0</td>\n",
              "      <td>0</td>\n",
              "      <td>0</td>\n",
              "      <td>negative</td>\n",
              "      <td>No</td>\n",
              "      <td>male</td>\n",
              "      <td>Other</td>\n",
              "    </tr>\n",
              "    <tr>\n",
              "      <th>4</th>\n",
              "      <td>2020-11-12</td>\n",
              "      <td>0</td>\n",
              "      <td>1</td>\n",
              "      <td>0</td>\n",
              "      <td>0</td>\n",
              "      <td>0</td>\n",
              "      <td>negative</td>\n",
              "      <td>No</td>\n",
              "      <td>male</td>\n",
              "      <td>Contact with confirmed</td>\n",
              "    </tr>\n",
              "    <tr>\n",
              "      <th>...</th>\n",
              "      <td>...</td>\n",
              "      <td>...</td>\n",
              "      <td>...</td>\n",
              "      <td>...</td>\n",
              "      <td>...</td>\n",
              "      <td>...</td>\n",
              "      <td>...</td>\n",
              "      <td>...</td>\n",
              "      <td>...</td>\n",
              "      <td>...</td>\n",
              "    </tr>\n",
              "    <tr>\n",
              "      <th>2742591</th>\n",
              "      <td>2020-03-11</td>\n",
              "      <td>0</td>\n",
              "      <td>0</td>\n",
              "      <td>0</td>\n",
              "      <td>0</td>\n",
              "      <td>0</td>\n",
              "      <td>negative</td>\n",
              "      <td>NaN</td>\n",
              "      <td>female</td>\n",
              "      <td>Other</td>\n",
              "    </tr>\n",
              "    <tr>\n",
              "      <th>2742592</th>\n",
              "      <td>2020-03-11</td>\n",
              "      <td>0</td>\n",
              "      <td>0</td>\n",
              "      <td>0</td>\n",
              "      <td>0</td>\n",
              "      <td>0</td>\n",
              "      <td>negative</td>\n",
              "      <td>NaN</td>\n",
              "      <td>female</td>\n",
              "      <td>Other</td>\n",
              "    </tr>\n",
              "    <tr>\n",
              "      <th>2742593</th>\n",
              "      <td>2020-03-11</td>\n",
              "      <td>0</td>\n",
              "      <td>0</td>\n",
              "      <td>0</td>\n",
              "      <td>0</td>\n",
              "      <td>0</td>\n",
              "      <td>other</td>\n",
              "      <td>NaN</td>\n",
              "      <td>male</td>\n",
              "      <td>Other</td>\n",
              "    </tr>\n",
              "    <tr>\n",
              "      <th>2742594</th>\n",
              "      <td>2020-03-11</td>\n",
              "      <td>0</td>\n",
              "      <td>0</td>\n",
              "      <td>0</td>\n",
              "      <td>0</td>\n",
              "      <td>0</td>\n",
              "      <td>negative</td>\n",
              "      <td>NaN</td>\n",
              "      <td>female</td>\n",
              "      <td>Other</td>\n",
              "    </tr>\n",
              "    <tr>\n",
              "      <th>2742595</th>\n",
              "      <td>2020-03-11</td>\n",
              "      <td>0</td>\n",
              "      <td>1</td>\n",
              "      <td>0</td>\n",
              "      <td>0</td>\n",
              "      <td>0</td>\n",
              "      <td>negative</td>\n",
              "      <td>NaN</td>\n",
              "      <td>male</td>\n",
              "      <td>Other</td>\n",
              "    </tr>\n",
              "  </tbody>\n",
              "</table>\n",
              "<p>2742596 rows × 10 columns</p>\n",
              "</div>"
            ],
            "text/plain": [
              "              fecha  tos  fiebre  ...  sesenta_mas    sexo            indicaciones\n",
              "0        2020-11-12    0       0  ...           No    male                   Other\n",
              "1        2020-11-12    0       1  ...           No    male                   Other\n",
              "2        2020-11-12    0       0  ...          Yes  female                   Other\n",
              "3        2020-11-12    0       0  ...           No    male                   Other\n",
              "4        2020-11-12    0       1  ...           No    male  Contact with confirmed\n",
              "...             ...  ...     ...  ...          ...     ...                     ...\n",
              "2742591  2020-03-11    0       0  ...          NaN  female                   Other\n",
              "2742592  2020-03-11    0       0  ...          NaN  female                   Other\n",
              "2742593  2020-03-11    0       0  ...          NaN    male                   Other\n",
              "2742594  2020-03-11    0       0  ...          NaN  female                   Other\n",
              "2742595  2020-03-11    0       1  ...          NaN    male                   Other\n",
              "\n",
              "[2742596 rows x 10 columns]"
            ]
          },
          "metadata": {
            "tags": []
          },
          "execution_count": 95
        }
      ]
    },
    {
      "cell_type": "code",
      "metadata": {
        "id": "dfvDjG_yEEUt"
      },
      "source": [
        "#df006['corona_result'].value_counts()"
      ],
      "execution_count": null,
      "outputs": []
    },
    {
      "cell_type": "code",
      "metadata": {
        "id": "UzlwSSiHEEUu",
        "colab": {
          "base_uri": "https://localhost:8080/"
        },
        "outputId": "310f4cb7-1860-40ce-9249-bf9fe0e688a0"
      },
      "source": [
        "df0083['resultado'].value_counts()"
      ],
      "execution_count": null,
      "outputs": [
        {
          "output_type": "execute_result",
          "data": {
            "text/plain": [
              "negative    2480403\n",
              "positive     220975\n",
              "other         41218\n",
              "Name: resultado, dtype: int64"
            ]
          },
          "metadata": {
            "tags": []
          },
          "execution_count": 97
        }
      ]
    },
    {
      "cell_type": "code",
      "metadata": {
        "id": "IS2nGH0vEEUu",
        "colab": {
          "base_uri": "https://localhost:8080/"
        },
        "outputId": "3feeb890-a46b-4f3a-9fc5-cd50d7a8492e"
      },
      "source": [
        "df0083['sesenta_mas'].value_counts()"
      ],
      "execution_count": null,
      "outputs": [
        {
          "output_type": "execute_result",
          "data": {
            "text/plain": [
              "No     1908553\n",
              "Yes     286399\n",
              "Name: sesenta_mas, dtype: int64"
            ]
          },
          "metadata": {
            "tags": []
          },
          "execution_count": 98
        }
      ]
    },
    {
      "cell_type": "code",
      "metadata": {
        "id": "EquP8xO2EEUv",
        "colab": {
          "base_uri": "https://localhost:8080/"
        },
        "outputId": "34c85fbc-4c9b-4d90-e26a-d51e8878b3d5"
      },
      "source": [
        "df0083.isnull().sum() "
      ],
      "execution_count": null,
      "outputs": [
        {
          "output_type": "execute_result",
          "data": {
            "text/plain": [
              "fecha                            0\n",
              "tos                              0\n",
              "fiebre                           0\n",
              "dolor_de_garganta                0\n",
              "dificultad_para_respirar         0\n",
              "dolor_de_cabeza                  0\n",
              "resultado                        0\n",
              "sesenta_mas                 547644\n",
              "sexo                         92886\n",
              "indicaciones                     0\n",
              "dtype: int64"
            ]
          },
          "metadata": {
            "tags": []
          },
          "execution_count": 99
        }
      ]
    },
    {
      "cell_type": "code",
      "metadata": {
        "id": "Ke7o9j_TEEUv",
        "colab": {
          "base_uri": "https://localhost:8080/",
          "height": 418
        },
        "outputId": "f9c67e90-6aa7-44f5-f2eb-a876b8ebc67b"
      },
      "source": [
        "data = df0083.dropna()\n",
        "data"
      ],
      "execution_count": null,
      "outputs": [
        {
          "output_type": "execute_result",
          "data": {
            "text/html": [
              "<div>\n",
              "<style scoped>\n",
              "    .dataframe tbody tr th:only-of-type {\n",
              "        vertical-align: middle;\n",
              "    }\n",
              "\n",
              "    .dataframe tbody tr th {\n",
              "        vertical-align: top;\n",
              "    }\n",
              "\n",
              "    .dataframe thead th {\n",
              "        text-align: right;\n",
              "    }\n",
              "</style>\n",
              "<table border=\"1\" class=\"dataframe\">\n",
              "  <thead>\n",
              "    <tr style=\"text-align: right;\">\n",
              "      <th></th>\n",
              "      <th>fecha</th>\n",
              "      <th>tos</th>\n",
              "      <th>fiebre</th>\n",
              "      <th>dolor_de_garganta</th>\n",
              "      <th>dificultad_para_respirar</th>\n",
              "      <th>dolor_de_cabeza</th>\n",
              "      <th>resultado</th>\n",
              "      <th>sesenta_mas</th>\n",
              "      <th>sexo</th>\n",
              "      <th>indicaciones</th>\n",
              "    </tr>\n",
              "  </thead>\n",
              "  <tbody>\n",
              "    <tr>\n",
              "      <th>0</th>\n",
              "      <td>2020-11-12</td>\n",
              "      <td>0</td>\n",
              "      <td>0</td>\n",
              "      <td>0</td>\n",
              "      <td>0</td>\n",
              "      <td>0</td>\n",
              "      <td>negative</td>\n",
              "      <td>No</td>\n",
              "      <td>male</td>\n",
              "      <td>Other</td>\n",
              "    </tr>\n",
              "    <tr>\n",
              "      <th>1</th>\n",
              "      <td>2020-11-12</td>\n",
              "      <td>0</td>\n",
              "      <td>1</td>\n",
              "      <td>0</td>\n",
              "      <td>0</td>\n",
              "      <td>0</td>\n",
              "      <td>negative</td>\n",
              "      <td>No</td>\n",
              "      <td>male</td>\n",
              "      <td>Other</td>\n",
              "    </tr>\n",
              "    <tr>\n",
              "      <th>2</th>\n",
              "      <td>2020-11-12</td>\n",
              "      <td>0</td>\n",
              "      <td>0</td>\n",
              "      <td>0</td>\n",
              "      <td>0</td>\n",
              "      <td>0</td>\n",
              "      <td>negative</td>\n",
              "      <td>Yes</td>\n",
              "      <td>female</td>\n",
              "      <td>Other</td>\n",
              "    </tr>\n",
              "    <tr>\n",
              "      <th>3</th>\n",
              "      <td>2020-11-12</td>\n",
              "      <td>0</td>\n",
              "      <td>0</td>\n",
              "      <td>0</td>\n",
              "      <td>0</td>\n",
              "      <td>0</td>\n",
              "      <td>negative</td>\n",
              "      <td>No</td>\n",
              "      <td>male</td>\n",
              "      <td>Other</td>\n",
              "    </tr>\n",
              "    <tr>\n",
              "      <th>4</th>\n",
              "      <td>2020-11-12</td>\n",
              "      <td>0</td>\n",
              "      <td>1</td>\n",
              "      <td>0</td>\n",
              "      <td>0</td>\n",
              "      <td>0</td>\n",
              "      <td>negative</td>\n",
              "      <td>No</td>\n",
              "      <td>male</td>\n",
              "      <td>Contact with confirmed</td>\n",
              "    </tr>\n",
              "    <tr>\n",
              "      <th>...</th>\n",
              "      <td>...</td>\n",
              "      <td>...</td>\n",
              "      <td>...</td>\n",
              "      <td>...</td>\n",
              "      <td>...</td>\n",
              "      <td>...</td>\n",
              "      <td>...</td>\n",
              "      <td>...</td>\n",
              "      <td>...</td>\n",
              "      <td>...</td>\n",
              "    </tr>\n",
              "    <tr>\n",
              "      <th>2731639</th>\n",
              "      <td>2020-03-20</td>\n",
              "      <td>1</td>\n",
              "      <td>1</td>\n",
              "      <td>1</td>\n",
              "      <td>1</td>\n",
              "      <td>1</td>\n",
              "      <td>positive</td>\n",
              "      <td>No</td>\n",
              "      <td>female</td>\n",
              "      <td>Contact with confirmed</td>\n",
              "    </tr>\n",
              "    <tr>\n",
              "      <th>2731640</th>\n",
              "      <td>2020-03-20</td>\n",
              "      <td>0</td>\n",
              "      <td>0</td>\n",
              "      <td>0</td>\n",
              "      <td>0</td>\n",
              "      <td>0</td>\n",
              "      <td>negative</td>\n",
              "      <td>No</td>\n",
              "      <td>female</td>\n",
              "      <td>Other</td>\n",
              "    </tr>\n",
              "    <tr>\n",
              "      <th>2731643</th>\n",
              "      <td>2020-03-20</td>\n",
              "      <td>1</td>\n",
              "      <td>0</td>\n",
              "      <td>0</td>\n",
              "      <td>0</td>\n",
              "      <td>0</td>\n",
              "      <td>negative</td>\n",
              "      <td>No</td>\n",
              "      <td>male</td>\n",
              "      <td>Contact with confirmed</td>\n",
              "    </tr>\n",
              "    <tr>\n",
              "      <th>2731644</th>\n",
              "      <td>2020-03-20</td>\n",
              "      <td>0</td>\n",
              "      <td>0</td>\n",
              "      <td>0</td>\n",
              "      <td>0</td>\n",
              "      <td>0</td>\n",
              "      <td>negative</td>\n",
              "      <td>No</td>\n",
              "      <td>female</td>\n",
              "      <td>Other</td>\n",
              "    </tr>\n",
              "    <tr>\n",
              "      <th>2731647</th>\n",
              "      <td>2020-03-20</td>\n",
              "      <td>0</td>\n",
              "      <td>0</td>\n",
              "      <td>0</td>\n",
              "      <td>0</td>\n",
              "      <td>0</td>\n",
              "      <td>negative</td>\n",
              "      <td>No</td>\n",
              "      <td>female</td>\n",
              "      <td>Other</td>\n",
              "    </tr>\n",
              "  </tbody>\n",
              "</table>\n",
              "<p>2186227 rows × 10 columns</p>\n",
              "</div>"
            ],
            "text/plain": [
              "              fecha  tos  fiebre  ...  sesenta_mas    sexo            indicaciones\n",
              "0        2020-11-12    0       0  ...           No    male                   Other\n",
              "1        2020-11-12    0       1  ...           No    male                   Other\n",
              "2        2020-11-12    0       0  ...          Yes  female                   Other\n",
              "3        2020-11-12    0       0  ...           No    male                   Other\n",
              "4        2020-11-12    0       1  ...           No    male  Contact with confirmed\n",
              "...             ...  ...     ...  ...          ...     ...                     ...\n",
              "2731639  2020-03-20    1       1  ...           No  female  Contact with confirmed\n",
              "2731640  2020-03-20    0       0  ...           No  female                   Other\n",
              "2731643  2020-03-20    1       0  ...           No    male  Contact with confirmed\n",
              "2731644  2020-03-20    0       0  ...           No  female                   Other\n",
              "2731647  2020-03-20    0       0  ...           No  female                   Other\n",
              "\n",
              "[2186227 rows x 10 columns]"
            ]
          },
          "metadata": {
            "tags": []
          },
          "execution_count": 100
        }
      ]
    },
    {
      "cell_type": "code",
      "metadata": {
        "id": "i4Egzy3kEEUw",
        "colab": {
          "base_uri": "https://localhost:8080/"
        },
        "outputId": "5a5bebc6-aa57-4332-92e9-6df1f17bae2c"
      },
      "source": [
        "data['resultado'].value_counts()"
      ],
      "execution_count": null,
      "outputs": [
        {
          "output_type": "execute_result",
          "data": {
            "text/plain": [
              "negative    1943172\n",
              "positive     208726\n",
              "other         34329\n",
              "Name: resultado, dtype: int64"
            ]
          },
          "metadata": {
            "tags": []
          },
          "execution_count": 101
        }
      ]
    },
    {
      "cell_type": "code",
      "metadata": {
        "id": "KXd_rNEIEEUx",
        "colab": {
          "base_uri": "https://localhost:8080/",
          "height": 418
        },
        "outputId": "95691c7f-2e53-4ed7-af31-cdd7460e4bd3"
      },
      "source": [
        "data = data.drop(data[data[\"resultado\"].str.contains(\"other\")].index)\n",
        "data"
      ],
      "execution_count": null,
      "outputs": [
        {
          "output_type": "execute_result",
          "data": {
            "text/html": [
              "<div>\n",
              "<style scoped>\n",
              "    .dataframe tbody tr th:only-of-type {\n",
              "        vertical-align: middle;\n",
              "    }\n",
              "\n",
              "    .dataframe tbody tr th {\n",
              "        vertical-align: top;\n",
              "    }\n",
              "\n",
              "    .dataframe thead th {\n",
              "        text-align: right;\n",
              "    }\n",
              "</style>\n",
              "<table border=\"1\" class=\"dataframe\">\n",
              "  <thead>\n",
              "    <tr style=\"text-align: right;\">\n",
              "      <th></th>\n",
              "      <th>fecha</th>\n",
              "      <th>tos</th>\n",
              "      <th>fiebre</th>\n",
              "      <th>dolor_de_garganta</th>\n",
              "      <th>dificultad_para_respirar</th>\n",
              "      <th>dolor_de_cabeza</th>\n",
              "      <th>resultado</th>\n",
              "      <th>sesenta_mas</th>\n",
              "      <th>sexo</th>\n",
              "      <th>indicaciones</th>\n",
              "    </tr>\n",
              "  </thead>\n",
              "  <tbody>\n",
              "    <tr>\n",
              "      <th>0</th>\n",
              "      <td>2020-11-12</td>\n",
              "      <td>0</td>\n",
              "      <td>0</td>\n",
              "      <td>0</td>\n",
              "      <td>0</td>\n",
              "      <td>0</td>\n",
              "      <td>negative</td>\n",
              "      <td>No</td>\n",
              "      <td>male</td>\n",
              "      <td>Other</td>\n",
              "    </tr>\n",
              "    <tr>\n",
              "      <th>1</th>\n",
              "      <td>2020-11-12</td>\n",
              "      <td>0</td>\n",
              "      <td>1</td>\n",
              "      <td>0</td>\n",
              "      <td>0</td>\n",
              "      <td>0</td>\n",
              "      <td>negative</td>\n",
              "      <td>No</td>\n",
              "      <td>male</td>\n",
              "      <td>Other</td>\n",
              "    </tr>\n",
              "    <tr>\n",
              "      <th>2</th>\n",
              "      <td>2020-11-12</td>\n",
              "      <td>0</td>\n",
              "      <td>0</td>\n",
              "      <td>0</td>\n",
              "      <td>0</td>\n",
              "      <td>0</td>\n",
              "      <td>negative</td>\n",
              "      <td>Yes</td>\n",
              "      <td>female</td>\n",
              "      <td>Other</td>\n",
              "    </tr>\n",
              "    <tr>\n",
              "      <th>3</th>\n",
              "      <td>2020-11-12</td>\n",
              "      <td>0</td>\n",
              "      <td>0</td>\n",
              "      <td>0</td>\n",
              "      <td>0</td>\n",
              "      <td>0</td>\n",
              "      <td>negative</td>\n",
              "      <td>No</td>\n",
              "      <td>male</td>\n",
              "      <td>Other</td>\n",
              "    </tr>\n",
              "    <tr>\n",
              "      <th>4</th>\n",
              "      <td>2020-11-12</td>\n",
              "      <td>0</td>\n",
              "      <td>1</td>\n",
              "      <td>0</td>\n",
              "      <td>0</td>\n",
              "      <td>0</td>\n",
              "      <td>negative</td>\n",
              "      <td>No</td>\n",
              "      <td>male</td>\n",
              "      <td>Contact with confirmed</td>\n",
              "    </tr>\n",
              "    <tr>\n",
              "      <th>...</th>\n",
              "      <td>...</td>\n",
              "      <td>...</td>\n",
              "      <td>...</td>\n",
              "      <td>...</td>\n",
              "      <td>...</td>\n",
              "      <td>...</td>\n",
              "      <td>...</td>\n",
              "      <td>...</td>\n",
              "      <td>...</td>\n",
              "      <td>...</td>\n",
              "    </tr>\n",
              "    <tr>\n",
              "      <th>2731639</th>\n",
              "      <td>2020-03-20</td>\n",
              "      <td>1</td>\n",
              "      <td>1</td>\n",
              "      <td>1</td>\n",
              "      <td>1</td>\n",
              "      <td>1</td>\n",
              "      <td>positive</td>\n",
              "      <td>No</td>\n",
              "      <td>female</td>\n",
              "      <td>Contact with confirmed</td>\n",
              "    </tr>\n",
              "    <tr>\n",
              "      <th>2731640</th>\n",
              "      <td>2020-03-20</td>\n",
              "      <td>0</td>\n",
              "      <td>0</td>\n",
              "      <td>0</td>\n",
              "      <td>0</td>\n",
              "      <td>0</td>\n",
              "      <td>negative</td>\n",
              "      <td>No</td>\n",
              "      <td>female</td>\n",
              "      <td>Other</td>\n",
              "    </tr>\n",
              "    <tr>\n",
              "      <th>2731643</th>\n",
              "      <td>2020-03-20</td>\n",
              "      <td>1</td>\n",
              "      <td>0</td>\n",
              "      <td>0</td>\n",
              "      <td>0</td>\n",
              "      <td>0</td>\n",
              "      <td>negative</td>\n",
              "      <td>No</td>\n",
              "      <td>male</td>\n",
              "      <td>Contact with confirmed</td>\n",
              "    </tr>\n",
              "    <tr>\n",
              "      <th>2731644</th>\n",
              "      <td>2020-03-20</td>\n",
              "      <td>0</td>\n",
              "      <td>0</td>\n",
              "      <td>0</td>\n",
              "      <td>0</td>\n",
              "      <td>0</td>\n",
              "      <td>negative</td>\n",
              "      <td>No</td>\n",
              "      <td>female</td>\n",
              "      <td>Other</td>\n",
              "    </tr>\n",
              "    <tr>\n",
              "      <th>2731647</th>\n",
              "      <td>2020-03-20</td>\n",
              "      <td>0</td>\n",
              "      <td>0</td>\n",
              "      <td>0</td>\n",
              "      <td>0</td>\n",
              "      <td>0</td>\n",
              "      <td>negative</td>\n",
              "      <td>No</td>\n",
              "      <td>female</td>\n",
              "      <td>Other</td>\n",
              "    </tr>\n",
              "  </tbody>\n",
              "</table>\n",
              "<p>2151898 rows × 10 columns</p>\n",
              "</div>"
            ],
            "text/plain": [
              "              fecha  tos  fiebre  ...  sesenta_mas    sexo            indicaciones\n",
              "0        2020-11-12    0       0  ...           No    male                   Other\n",
              "1        2020-11-12    0       1  ...           No    male                   Other\n",
              "2        2020-11-12    0       0  ...          Yes  female                   Other\n",
              "3        2020-11-12    0       0  ...           No    male                   Other\n",
              "4        2020-11-12    0       1  ...           No    male  Contact with confirmed\n",
              "...             ...  ...     ...  ...          ...     ...                     ...\n",
              "2731639  2020-03-20    1       1  ...           No  female  Contact with confirmed\n",
              "2731640  2020-03-20    0       0  ...           No  female                   Other\n",
              "2731643  2020-03-20    1       0  ...           No    male  Contact with confirmed\n",
              "2731644  2020-03-20    0       0  ...           No  female                   Other\n",
              "2731647  2020-03-20    0       0  ...           No  female                   Other\n",
              "\n",
              "[2151898 rows x 10 columns]"
            ]
          },
          "metadata": {
            "tags": []
          },
          "execution_count": 102
        }
      ]
    },
    {
      "cell_type": "code",
      "metadata": {
        "id": "vldL-11jEEUx",
        "colab": {
          "base_uri": "https://localhost:8080/"
        },
        "outputId": "b20235df-931e-4ee2-c826-df191b265fd8"
      },
      "source": [
        "data['resultado'].value_counts()"
      ],
      "execution_count": null,
      "outputs": [
        {
          "output_type": "execute_result",
          "data": {
            "text/plain": [
              "negative    1943172\n",
              "positive     208726\n",
              "Name: resultado, dtype: int64"
            ]
          },
          "metadata": {
            "tags": []
          },
          "execution_count": 35
        }
      ]
    },
    {
      "cell_type": "code",
      "metadata": {
        "id": "yvY2PgzsEEUx",
        "colab": {
          "base_uri": "https://localhost:8080/"
        },
        "outputId": "b1dd26c3-2cec-4bb7-e5e2-90cb9c6c2a22"
      },
      "source": [
        "data['indicaciones'].value_counts()"
      ],
      "execution_count": null,
      "outputs": [
        {
          "output_type": "execute_result",
          "data": {
            "text/plain": [
              "0    1988259\n",
              "3     147809\n",
              "1      15830\n",
              "Name: indicaciones, dtype: int64"
            ]
          },
          "metadata": {
            "tags": []
          },
          "execution_count": 19
        }
      ]
    },
    {
      "cell_type": "markdown",
      "metadata": {
        "id": "OSuiZj8mEEUy"
      },
      "source": [
        "contact = 3\n",
        "\n",
        "abroad = 1\n",
        "\n",
        "other = 0"
      ]
    },
    {
      "cell_type": "code",
      "metadata": {
        "id": "9upYpkojEEUy",
        "colab": {
          "base_uri": "https://localhost:8080/",
          "height": 418
        },
        "outputId": "c349b15d-0de9-488d-bd40-887b93722ab2"
      },
      "source": [
        "data.resultado.replace({\"positive\": 1, \"negative\": 0}, inplace = True) #cambio para resultados\n",
        "data.sesenta_mas.replace({\"Yes\": 1, \"No\": 0}, inplace = True) #edad\n",
        "data.sexo.replace({\"male\": 1, \"female\": 0}, inplace = True) #sexo\n",
        "data.indicaciones.replace({\"Contact with confirmed\": 1, \"Abroad\": 0.8, \"Other\": 0}, inplace = True)\n",
        "data"
      ],
      "execution_count": null,
      "outputs": [
        {
          "output_type": "execute_result",
          "data": {
            "text/html": [
              "<div>\n",
              "<style scoped>\n",
              "    .dataframe tbody tr th:only-of-type {\n",
              "        vertical-align: middle;\n",
              "    }\n",
              "\n",
              "    .dataframe tbody tr th {\n",
              "        vertical-align: top;\n",
              "    }\n",
              "\n",
              "    .dataframe thead th {\n",
              "        text-align: right;\n",
              "    }\n",
              "</style>\n",
              "<table border=\"1\" class=\"dataframe\">\n",
              "  <thead>\n",
              "    <tr style=\"text-align: right;\">\n",
              "      <th></th>\n",
              "      <th>fecha</th>\n",
              "      <th>tos</th>\n",
              "      <th>fiebre</th>\n",
              "      <th>dolor_de_garganta</th>\n",
              "      <th>dificultad_para_respirar</th>\n",
              "      <th>dolor_de_cabeza</th>\n",
              "      <th>resultado</th>\n",
              "      <th>sesenta_mas</th>\n",
              "      <th>sexo</th>\n",
              "      <th>indicaciones</th>\n",
              "    </tr>\n",
              "  </thead>\n",
              "  <tbody>\n",
              "    <tr>\n",
              "      <th>0</th>\n",
              "      <td>2020-11-12</td>\n",
              "      <td>0</td>\n",
              "      <td>0</td>\n",
              "      <td>0</td>\n",
              "      <td>0</td>\n",
              "      <td>0</td>\n",
              "      <td>0</td>\n",
              "      <td>0</td>\n",
              "      <td>1</td>\n",
              "      <td>0.0</td>\n",
              "    </tr>\n",
              "    <tr>\n",
              "      <th>1</th>\n",
              "      <td>2020-11-12</td>\n",
              "      <td>0</td>\n",
              "      <td>1</td>\n",
              "      <td>0</td>\n",
              "      <td>0</td>\n",
              "      <td>0</td>\n",
              "      <td>0</td>\n",
              "      <td>0</td>\n",
              "      <td>1</td>\n",
              "      <td>0.0</td>\n",
              "    </tr>\n",
              "    <tr>\n",
              "      <th>2</th>\n",
              "      <td>2020-11-12</td>\n",
              "      <td>0</td>\n",
              "      <td>0</td>\n",
              "      <td>0</td>\n",
              "      <td>0</td>\n",
              "      <td>0</td>\n",
              "      <td>0</td>\n",
              "      <td>1</td>\n",
              "      <td>0</td>\n",
              "      <td>0.0</td>\n",
              "    </tr>\n",
              "    <tr>\n",
              "      <th>3</th>\n",
              "      <td>2020-11-12</td>\n",
              "      <td>0</td>\n",
              "      <td>0</td>\n",
              "      <td>0</td>\n",
              "      <td>0</td>\n",
              "      <td>0</td>\n",
              "      <td>0</td>\n",
              "      <td>0</td>\n",
              "      <td>1</td>\n",
              "      <td>0.0</td>\n",
              "    </tr>\n",
              "    <tr>\n",
              "      <th>4</th>\n",
              "      <td>2020-11-12</td>\n",
              "      <td>0</td>\n",
              "      <td>1</td>\n",
              "      <td>0</td>\n",
              "      <td>0</td>\n",
              "      <td>0</td>\n",
              "      <td>0</td>\n",
              "      <td>0</td>\n",
              "      <td>1</td>\n",
              "      <td>1.0</td>\n",
              "    </tr>\n",
              "    <tr>\n",
              "      <th>...</th>\n",
              "      <td>...</td>\n",
              "      <td>...</td>\n",
              "      <td>...</td>\n",
              "      <td>...</td>\n",
              "      <td>...</td>\n",
              "      <td>...</td>\n",
              "      <td>...</td>\n",
              "      <td>...</td>\n",
              "      <td>...</td>\n",
              "      <td>...</td>\n",
              "    </tr>\n",
              "    <tr>\n",
              "      <th>2731639</th>\n",
              "      <td>2020-03-20</td>\n",
              "      <td>1</td>\n",
              "      <td>1</td>\n",
              "      <td>1</td>\n",
              "      <td>1</td>\n",
              "      <td>1</td>\n",
              "      <td>1</td>\n",
              "      <td>0</td>\n",
              "      <td>0</td>\n",
              "      <td>1.0</td>\n",
              "    </tr>\n",
              "    <tr>\n",
              "      <th>2731640</th>\n",
              "      <td>2020-03-20</td>\n",
              "      <td>0</td>\n",
              "      <td>0</td>\n",
              "      <td>0</td>\n",
              "      <td>0</td>\n",
              "      <td>0</td>\n",
              "      <td>0</td>\n",
              "      <td>0</td>\n",
              "      <td>0</td>\n",
              "      <td>0.0</td>\n",
              "    </tr>\n",
              "    <tr>\n",
              "      <th>2731643</th>\n",
              "      <td>2020-03-20</td>\n",
              "      <td>1</td>\n",
              "      <td>0</td>\n",
              "      <td>0</td>\n",
              "      <td>0</td>\n",
              "      <td>0</td>\n",
              "      <td>0</td>\n",
              "      <td>0</td>\n",
              "      <td>1</td>\n",
              "      <td>1.0</td>\n",
              "    </tr>\n",
              "    <tr>\n",
              "      <th>2731644</th>\n",
              "      <td>2020-03-20</td>\n",
              "      <td>0</td>\n",
              "      <td>0</td>\n",
              "      <td>0</td>\n",
              "      <td>0</td>\n",
              "      <td>0</td>\n",
              "      <td>0</td>\n",
              "      <td>0</td>\n",
              "      <td>0</td>\n",
              "      <td>0.0</td>\n",
              "    </tr>\n",
              "    <tr>\n",
              "      <th>2731647</th>\n",
              "      <td>2020-03-20</td>\n",
              "      <td>0</td>\n",
              "      <td>0</td>\n",
              "      <td>0</td>\n",
              "      <td>0</td>\n",
              "      <td>0</td>\n",
              "      <td>0</td>\n",
              "      <td>0</td>\n",
              "      <td>0</td>\n",
              "      <td>0.0</td>\n",
              "    </tr>\n",
              "  </tbody>\n",
              "</table>\n",
              "<p>2151898 rows × 10 columns</p>\n",
              "</div>"
            ],
            "text/plain": [
              "              fecha  tos  fiebre  ...  sesenta_mas  sexo  indicaciones\n",
              "0        2020-11-12    0       0  ...            0     1           0.0\n",
              "1        2020-11-12    0       1  ...            0     1           0.0\n",
              "2        2020-11-12    0       0  ...            1     0           0.0\n",
              "3        2020-11-12    0       0  ...            0     1           0.0\n",
              "4        2020-11-12    0       1  ...            0     1           1.0\n",
              "...             ...  ...     ...  ...          ...   ...           ...\n",
              "2731639  2020-03-20    1       1  ...            0     0           1.0\n",
              "2731640  2020-03-20    0       0  ...            0     0           0.0\n",
              "2731643  2020-03-20    1       0  ...            0     1           1.0\n",
              "2731644  2020-03-20    0       0  ...            0     0           0.0\n",
              "2731647  2020-03-20    0       0  ...            0     0           0.0\n",
              "\n",
              "[2151898 rows x 10 columns]"
            ]
          },
          "metadata": {
            "tags": []
          },
          "execution_count": 36
        }
      ]
    },
    {
      "cell_type": "code",
      "metadata": {
        "id": "ZTAyfo0xEEUy"
      },
      "source": [
        "from sklearn.model_selection import train_test_split\n",
        "\n",
        "X = data.drop([\"resultado\", \"fecha\"], axis = 1)\n",
        "y = data.resultado\n",
        "X_train, X_test, y_train, y_test = train_test_split(X, y, test_size=0.2)"
      ],
      "execution_count": null,
      "outputs": []
    },
    {
      "cell_type": "code",
      "metadata": {
        "id": "GTA_3NliSJ8J",
        "colab": {
          "base_uri": "https://localhost:8080/"
        },
        "outputId": "4189b4bf-f7e7-4e84-8759-8fd2bb9dffd5"
      },
      "source": [
        "from imblearn.over_sampling import SMOTE \n",
        "\n",
        "over_sampler = SMOTE (k_neighbors = 2) \n",
        "X_train, y_train = over_sampler.fit_resample (X_train, y_train) "
      ],
      "execution_count": null,
      "outputs": [
        {
          "output_type": "stream",
          "text": [
            "/usr/local/lib/python3.7/dist-packages/sklearn/externals/six.py:31: FutureWarning: The module is deprecated in version 0.21 and will be removed in version 0.23 since we've dropped support for Python 2.7. Please rely on the official version of six (https://pypi.org/project/six/).\n",
            "  \"(https://pypi.org/project/six/).\", FutureWarning)\n",
            "/usr/local/lib/python3.7/dist-packages/sklearn/utils/deprecation.py:144: FutureWarning: The sklearn.neighbors.base module is  deprecated in version 0.22 and will be removed in version 0.24. The corresponding classes / functions should instead be imported from sklearn.neighbors. Anything that cannot be imported from sklearn.neighbors is now part of the private API.\n",
            "  warnings.warn(message, FutureWarning)\n",
            "/usr/local/lib/python3.7/dist-packages/sklearn/utils/deprecation.py:87: FutureWarning: Function safe_indexing is deprecated; safe_indexing is deprecated in version 0.22 and will be removed in version 0.24.\n",
            "  warnings.warn(msg, category=FutureWarning)\n"
          ],
          "name": "stderr"
        }
      ]
    },
    {
      "cell_type": "code",
      "metadata": {
        "id": "DsnHYOaaEEUz"
      },
      "source": [
        "from sklearn.linear_model import LogisticRegression\n",
        "\n",
        "logisticRegr = LogisticRegression(max_iter = 10000, tol=0.005) #lr=0.0001"
      ],
      "execution_count": null,
      "outputs": []
    },
    {
      "cell_type": "code",
      "metadata": {
        "colab": {
          "base_uri": "https://localhost:8080/"
        },
        "id": "zcAVDU4XQuMP",
        "outputId": "1dcc24ee-450c-4107-a28c-c4fc2c4fb916"
      },
      "source": [
        "X_train.shape"
      ],
      "execution_count": null,
      "outputs": [
        {
          "output_type": "execute_result",
          "data": {
            "text/plain": [
              "(3109080, 8)"
            ]
          },
          "metadata": {
            "tags": []
          },
          "execution_count": 40
        }
      ]
    },
    {
      "cell_type": "code",
      "metadata": {
        "id": "-VI9oN0FEEUz",
        "colab": {
          "base_uri": "https://localhost:8080/"
        },
        "outputId": "a823d83b-8fef-4cbc-e25d-477268062be0"
      },
      "source": [
        "logisticRegr.fit(X_train, y_train)"
      ],
      "execution_count": null,
      "outputs": [
        {
          "output_type": "execute_result",
          "data": {
            "text/plain": [
              "LogisticRegression(C=1.0, class_weight=None, dual=False, fit_intercept=True,\n",
              "                   intercept_scaling=1, l1_ratio=None, max_iter=10000,\n",
              "                   multi_class='auto', n_jobs=None, penalty='l2',\n",
              "                   random_state=None, solver='lbfgs', tol=0.005, verbose=0,\n",
              "                   warm_start=False)"
            ]
          },
          "metadata": {
            "tags": []
          },
          "execution_count": 41
        }
      ]
    },
    {
      "cell_type": "code",
      "metadata": {
        "id": "BdIh2R5QEEUz",
        "colab": {
          "base_uri": "https://localhost:8080/"
        },
        "outputId": "59c8ba84-4177-4f74-9bdf-156d126306a2"
      },
      "source": [
        "print(logisticRegr.coef_)\n",
        "print(logisticRegr.intercept_)"
      ],
      "execution_count": null,
      "outputs": [
        {
          "output_type": "stream",
          "text": [
            "[[0.78307181 2.03685151 2.03834037 2.25648107 2.51633684 0.05941684\n",
            "  0.23735816 2.86996212]]\n",
            "[-1.05353954]\n"
          ],
          "name": "stdout"
        }
      ]
    },
    {
      "cell_type": "code",
      "metadata": {
        "colab": {
          "base_uri": "https://localhost:8080/"
        },
        "id": "5vHUJJ-2Q4rR",
        "outputId": "ea641a59-e714-462d-b64c-c069394f9a42"
      },
      "source": [
        "logisticRegr.score(X_test, y_test)"
      ],
      "execution_count": null,
      "outputs": [
        {
          "output_type": "execute_result",
          "data": {
            "text/plain": [
              "0.921553046145267"
            ]
          },
          "metadata": {
            "tags": []
          },
          "execution_count": 43
        }
      ]
    },
    {
      "cell_type": "code",
      "metadata": {
        "colab": {
          "base_uri": "https://localhost:8080/",
          "height": 80
        },
        "id": "3Nr8qVMfSMFD",
        "outputId": "a901a402-7992-4a3e-d464-df9d7070cb7b"
      },
      "source": [
        "X_test[1:2]"
      ],
      "execution_count": null,
      "outputs": [
        {
          "output_type": "execute_result",
          "data": {
            "text/html": [
              "<div>\n",
              "<style scoped>\n",
              "    .dataframe tbody tr th:only-of-type {\n",
              "        vertical-align: middle;\n",
              "    }\n",
              "\n",
              "    .dataframe tbody tr th {\n",
              "        vertical-align: top;\n",
              "    }\n",
              "\n",
              "    .dataframe thead th {\n",
              "        text-align: right;\n",
              "    }\n",
              "</style>\n",
              "<table border=\"1\" class=\"dataframe\">\n",
              "  <thead>\n",
              "    <tr style=\"text-align: right;\">\n",
              "      <th></th>\n",
              "      <th>tos</th>\n",
              "      <th>fiebre</th>\n",
              "      <th>dolor_de_garganta</th>\n",
              "      <th>dificultad_para_respirar</th>\n",
              "      <th>dolor_de_cabeza</th>\n",
              "      <th>sesenta_mas</th>\n",
              "      <th>sexo</th>\n",
              "      <th>indicaciones</th>\n",
              "    </tr>\n",
              "  </thead>\n",
              "  <tbody>\n",
              "    <tr>\n",
              "      <th>583786</th>\n",
              "      <td>0</td>\n",
              "      <td>0</td>\n",
              "      <td>0</td>\n",
              "      <td>0</td>\n",
              "      <td>0</td>\n",
              "      <td>0</td>\n",
              "      <td>0</td>\n",
              "      <td>0.0</td>\n",
              "    </tr>\n",
              "  </tbody>\n",
              "</table>\n",
              "</div>"
            ],
            "text/plain": [
              "        tos  fiebre  dolor_de_garganta  ...  sesenta_mas  sexo  indicaciones\n",
              "583786    0       0                  0  ...            0     0           0.0\n",
              "\n",
              "[1 rows x 8 columns]"
            ]
          },
          "metadata": {
            "tags": []
          },
          "execution_count": 44
        }
      ]
    },
    {
      "cell_type": "code",
      "metadata": {
        "id": "JaSk6aOiQm7n"
      },
      "source": [
        "import pickle\n",
        "\n",
        "# guardamos el modelo para ser usado en la aplicación\n",
        "filename = 'model.pkl'\n",
        "pickle.dump(logisticRegr, open(filename, 'wb'))"
      ],
      "execution_count": null,
      "outputs": []
    },
    {
      "cell_type": "code",
      "metadata": {
        "id": "z6dyvlruEEUz",
        "colab": {
          "base_uri": "https://localhost:8080/",
          "height": 369
        },
        "outputId": "5e5cd536-bd06-4cd4-d93e-f5d23ba6990f"
      },
      "source": [
        "from mlxtend.plotting import plot_confusion_matrix\n",
        "from sklearn.metrics import confusion_matrix\n",
        "\n",
        "y_pred = logisticRegr.predict(X_test)\n",
        "matriz = confusion_matrix(y_test, y_pred)\n",
        "\n",
        "plot_confusion_matrix(conf_mat=matriz, figsize=(5,5), show_normed=False)\n",
        "plt.tight_layout()"
      ],
      "execution_count": null,
      "outputs": [
        {
          "output_type": "display_data",
          "data": {
            "image/png": "[encoded data removed]",
            "text/plain": [
              "<Figure size 360x360 with 1 Axes>"
            ]
          },
          "metadata": {
            "tags": [],
            "needs_background": "light"
          }
        }
      ]
    },
    {
      "cell_type": "code",
      "metadata": {
        "id": "9b2QAExsmjCp",
        "colab": {
          "base_uri": "https://localhost:8080/"
        },
        "outputId": "59298397-2a3f-448d-8c11-a51b84bf467a"
      },
      "source": [
        "print(\"LR classification accuracy:\", accuracy(y_test, y_pred))"
      ],
      "execution_count": null,
      "outputs": [
        {
          "output_type": "stream",
          "text": [
            "LR classification accuracy: 0.921553046145267\n"
          ],
          "name": "stdout"
        }
      ]
    },
    {
      "cell_type": "code",
      "metadata": {
        "id": "5WFoZdBpmjT5"
      },
      "source": [
        ""
      ],
      "execution_count": null,
      "outputs": []
    },
    {
      "cell_type": "code",
      "metadata": {
        "id": "htaV7GZPmjip"
      },
      "source": [
        ""
      ],
      "execution_count": null,
      "outputs": []
    },
    {
      "cell_type": "code",
      "metadata": {
        "id": "6sP16HFHmj6E"
      },
      "source": [
        ""
      ],
      "execution_count": null,
      "outputs": []
    },
    {
      "cell_type": "code",
      "metadata": {
        "id": "x7tPAczKEEUz",
        "colab": {
          "base_uri": "https://localhost:8080/"
        },
        "outputId": "7d2754d1-bf94-4835-8985-afe193a0dc6c"
      },
      "source": [
        "from sklearn.metrics import f1_score\n",
        "\n",
        "f1_score(y_test, y_pred)"
      ],
      "execution_count": null,
      "outputs": [
        {
          "output_type": "execute_result",
          "data": {
            "text/plain": [
              "0.6086563427299703"
            ]
          },
          "metadata": {
            "tags": []
          },
          "execution_count": 48
        }
      ]
    },
    {
      "cell_type": "code",
      "metadata": {
        "id": "jBSYYYIsnCHF"
      },
      "source": [
        "import numpy as np\n",
        "\n",
        "class LogisticRegression:\n",
        "    def __init__(self, learning_rate=0.005, n_iters=500):\n",
        "        self.lr = learning_rate\n",
        "        self.n_iters = n_iters\n",
        "        self.weights = None\n",
        "        self.bias = None\n",
        "\n",
        "    def fit(self, X, y):\n",
        "        n_samples, n_features = X.shape\n",
        "\n",
        "        # init parameters\n",
        "        self.weights = np.zeros(n_features)\n",
        "        self.bias = 0\n",
        "        v_w = np.zeros(n_features)\n",
        "        v_b = 0\n",
        "        gamma = 0.9\n",
        "        # gradient descent\n",
        "        for _ in range(self.n_iters):\n",
        "            # approximate y with linear combination of weights and x, plus bias\n",
        "            linear_model = np.dot(X, self.weights) + self.bias\n",
        "            # apply sigmoid function\n",
        "            y_predicted = self._sigmoid(linear_model)\n",
        "\n",
        "            # compute gradients\n",
        "            dw = np.dot(X.T, (y_predicted - y))\n",
        "            db = np.sum(y_predicted - y)\n",
        "            print(\"dw\",dw)\n",
        "            # momentum\n",
        "            v_w = gamma * v_w + self.lr * dw \n",
        "            v_b = gamma * v_b + self.lr * db\n",
        "            print(\"v_w\",v_w)\n",
        "            # update parameters\n",
        "            self.weights -= v_w\n",
        "            self.bias -= v_b\n",
        "            print(\"weights\",self.weights)\n",
        "\n",
        "    def predict(self, X):\n",
        "        linear_model = np.dot(X, self.weights) + self.bias\n",
        "        y_predicted = self._sigmoid(linear_model)\n",
        "        y_predicted_cls = [1 if i > 0.5 else 0 for i in y_predicted]\n",
        "        return np.array(y_predicted_cls)\n",
        "\n",
        "    def _sigmoid(self, x):\n",
        "        return 1 / (1 + np.exp(-x))"
      ],
      "execution_count": null,
      "outputs": []
    },
    {
      "cell_type": "code",
      "metadata": {
        "id": "C229I-KKnx_I"
      },
      "source": [
        "def accuracy(y_true, y_pred):\n",
        "        accuracy = np.sum(y_true == y_pred) / len(y_true)\n",
        "        return accuracy"
      ],
      "execution_count": null,
      "outputs": []
    },
    {
      "cell_type": "code",
      "metadata": {
        "colab": {
          "base_uri": "https://localhost:8080/"
        },
        "id": "GGzgyzNLnwO5",
        "outputId": "1ef1617c-413e-4135-ec38-def3e16f74e3"
      },
      "source": [
        "regressor = LogisticRegression(learning_rate=0.005, n_iters=50)\n",
        "regressor.fit(X_train, y_train)\n",
        "predictions = regressor.predict(X_test)\n",
        "\n",
        "print(\"LR classification accuracy:\", accuracy(y_test, predictions))"
      ],
      "execution_count": null,
      "outputs": [
        {
          "output_type": "stream",
          "text": [
            "dw [-128837.5        -164868.5         -69120.46073303  -25002.24787933\n",
            " -141994.            7534.35719015  -26581.5        -323971.61646729]\n",
            "v_w [ -644.1875      -824.3425      -345.60230367  -125.0112394\n",
            "  -709.97          37.67178595  -132.9075     -1619.85808234]\n",
            "weights [ 644.1875      824.3425      345.60230367  125.0112394   709.97\n",
            "  -37.67178595  132.9075     1619.85808234]\n",
            "dw [ 37896.          25383.           5348.           1712.\n",
            "  10379.          67694.         750351.          53188.60000001]\n",
            "v_w [ -390.28875     -614.99325     -284.3020733   -103.95011546\n",
            "  -587.078        372.37460736  3632.13825    -1191.9292741 ]\n",
            "weights [ 1034.47625     1439.33575      629.90437696   228.96135485\n",
            "  1297.048       -410.04639331 -3499.23075     2811.78735644]\n",
            "dw [-244896.78153656 -304412.0010738  -123413.92140625  -43454.09997587\n",
            " -241536.78046276 -185816.00993538 -803514.         -631099.16873032]"
          ],
          "name": "stdout"
        },
        {
          "output_type": "stream",
          "text": [
            "/usr/local/lib/python3.7/dist-packages/ipykernel_launcher.py:46: RuntimeWarning: overflow encountered in exp\n"
          ],
          "name": "stderr"
        },
        {
          "output_type": "stream",
          "text": [
            "\n",
            "v_w [-1575.74378268 -2075.55393037  -872.941473    -310.82560379\n",
            " -1736.05410231  -593.94290306  -748.645575   -4228.23219034]\n",
            "weights [ 2610.22003268  3514.88968037  1502.84584996   539.78695864\n",
            "  3033.10210231   183.89650975 -2750.585175    7040.01954678]\n",
            "dw [   8626.00003358  -19945.          -13633.99996642   -7210.44586769\n",
            "  -13945.          -82672.1357689  -360037.99996642   53188.60000001]\n",
            "v_w [-1375.03940425 -1967.72353733  -853.81732553  -315.79527275\n",
            " -1632.17369208  -947.9092916  -2473.97101733 -3539.46597131]\n",
            "weights [ 3985.25943693  5482.6132177   2356.6631755    855.58223139\n",
            "  4665.2757944   1131.80580135  -276.61415767 10579.48551809]\n",
            "dw [ 37896.          25383.           5348.           1712.\n",
            "  10379.         205016.         750351.          53188.60000001]\n",
            "v_w [-1048.05546382 -1644.0361836   -741.69559298  -275.65574548\n",
            " -1417.06132287   171.96163756  1525.1810844  -2919.57637418]\n",
            "weights [ 5033.31490075  7126.6494013   3098.35876847  1131.23797687\n",
            "  6082.33711727   959.84416378 -1801.79524207 13499.06189227]\n",
            "dw [  37896.           25383.            5348.            1712.\n",
            "   10379.          205015.99267043 -122095.0073301    53188.60000001]\n",
            "v_w [ -753.76991744 -1352.71756524  -640.78603368  -239.53017093\n",
            " -1223.46019059  1179.84543716   762.18793931 -2361.67573676]\n",
            "weights [ 5787.08481819  8479.36696654  3739.14480216  1370.7681478\n",
            "  7305.79730786  -220.00127338 -2563.98318138 15860.73762903]\n",
            "dw [  11690.           25383.           -7396.           -4862.\n",
            "  -10077.          -73059.13576592 -307778.           53188.60000001]\n",
            "v_w [ -619.9429257  -1090.53080872  -613.68743031  -239.88715383\n",
            " -1151.49917153   696.56521461  -852.92085462 -1859.56516308]\n",
            "weights [ 6407.02774389  9569.89777525  4352.83223247  1610.65530163\n",
            "  8457.29647939  -916.56648799 -1711.06232676 17720.30279212]\n",
            "dw [ -11274.           16581.           -7755.           -5777.\n",
            "  -11874.          -88407.13576592 -316630.           53188.60000001]\n",
            "v_w [ -614.31863313  -898.57272784  -591.09368728  -244.78343845\n",
            " -1095.71925438   184.87301432 -2350.77876916 -1407.66564678]\n",
            "weights [ 7021.34637701 10468.4705031   4943.92591975  1855.43874008\n",
            "  9553.01573376 -1101.43950231   639.7164424  19127.96843889]\n",
            "dw [  10794.           25383.           -7755.           -3691.\n",
            "   10379.          -75187.13576592 -265760.           53188.60000001]\n",
            "v_w [ -498.91676981  -681.80045506  -570.75931855  -238.76009461\n",
            "  -934.25232894  -209.54996594 -3444.50089224 -1000.9560821 ]\n",
            "weights [ 7520.26314683 11150.27095816  5514.6852383   2094.19883469\n",
            " 10487.2680627   -891.88953638  4084.21733464 20128.92452099]\n",
            "dw [  37896.           25383.            4657.            -922.\n",
            "   10379.          -64877.         -253181.           53188.60000001]\n",
            "v_w [ -259.54509283  -486.70540955  -490.3983867   -219.49408515\n",
            "  -788.93209604  -512.97996934 -4365.95580302  -634.91747389]\n",
            "weights [ 7779.80823966 11636.97636771  6005.083625    2313.69291983\n",
            " 11276.20015874  -378.90956703  8450.17313766 20763.84199488]\n",
            "dw [ 37896.          25383.           5348.           1712.\n",
            "  10379.          67694.         750351.          53188.60000001]\n",
            "v_w [ -44.11058355 -311.1198686  -414.61854803 -188.98467663 -658.14388644\n",
            " -123.21197241 -177.60522272 -305.4827265 ]\n",
            "weights [ 7823.91882321 11948.09623631  6419.70217303  2502.67759647\n",
            " 11934.34404518  -255.69759462  8627.77836038 21069.32472138]\n",
            "dw [ 37896.          25383.           5348.           -922.\n",
            "  10379.          66900.         750351.          53188.60000001]\n",
            "v_w [ 149.78047481 -153.09288174 -346.41669323 -174.69620897 -540.4344978\n",
            "  223.60922483 3591.91029956   -8.99145385]\n",
            "weights [ 7674.1383484  12101.18911805  6766.11886626  2677.37380543\n",
            " 12474.77854298  -479.30681945  5035.86806082 21078.31617523]\n",
            "dw [  15438.           25383.           -1520.           -3024.\n",
            "   10379.          -69796.         -255283.           53188.60000001]\n",
            "v_w [ 211.99242733  -10.86859356 -319.3750239  -172.34658807 -434.49604802\n",
            " -147.73169765 1956.3042696   257.85069154]\n",
            "weights [ 7462.14592108 12112.05771161  7085.49389016  2849.7203935\n",
            " 12909.27459099  -331.5751218   3079.56379122 20820.46548369]\n",
            "dw [  14932.           25383.           -7489.59435686   -3932.\n",
            "   10379.          -71036.         -260850.59435685   53188.60000001]\n",
            "v_w [ 265.45318459  117.13326579 -324.8854933  -174.77192926 -339.15144321\n",
            " -488.13852789  456.42087086  498.00862238]\n",
            "weights [ 7196.69273648 11994.92444582  7410.37938346  3024.49232277\n",
            " 13248.42603421   156.56340609  2623.14292037 20322.45686131]\n",
            "dw [  15438.           25383.           -1520.           -3024.\n",
            "   10379.          -69796.         -255283.           53188.60000001]\n",
            "v_w [ 316.09786613  232.33493921 -299.99694397 -172.41473634 -253.34129889\n",
            " -788.3046751  -865.63621623  714.15076014]\n",
            "weights [ 6880.59487035 11762.58950661  7710.37632742  3196.90705911\n",
            " 13501.7673331    944.86808119  3488.7791366  19608.30610117]\n",
            "dw [  19681.00000172   25383.            5348.           -2348.\n",
            "   10379.          -64186.         -254607.           53188.60000001]\n",
            "v_w [  382.89307953   336.01644529  -243.25724957  -166.9132627\n",
            "  -176.112169   -1030.40420759 -2052.10759461   908.67868413]\n",
            "weights [ 6497.70179082 11426.57306131  7953.63357699  3363.82032181\n",
            " 13677.8795021   1975.27228878  5540.8867312  18699.62741704]\n",
            "dw [ 37896.          25383.           5348.           1712.\n",
            "  10379.         204854.26603165 750351.          53188.60000001]\n",
            "v_w [ 534.08377158  429.32980076 -192.19152461 -141.66193643 -106.6059521\n",
            "   96.90754333 1904.85816485 1083.75381572]\n",
            "weights [ 5963.61801925 10997.24326055  8145.82510161  3505.48225824\n",
            " 13784.48545421  1878.36474545  3636.02856635 17615.87360132]\n",
            "dw [ 37896.          25383.           5348.           1712.\n",
            "  10379.         205016.         750351.          53188.60000001]\n",
            "v_w [ 670.15539442  513.31182069 -146.23237215 -118.93574279  -44.05035689\n",
            " 1112.296789   5466.12734837 1241.32143414]\n",
            "weights [ 5293.46262483 10483.93143987  8292.05747376  3624.41800103\n",
            " 13828.5358111    766.06795645 -1830.09878202 16374.55216718]\n",
            "dw [  17864.00072869   25383.            5348.            -390.\n",
            "   10379.          -64068.         -275314.99927126   53188.60000001]\n",
            "v_w [ 692.45985862  588.89563862 -104.86913494 -108.99216851   12.2496788\n",
            "  680.7271101  3542.93961718 1383.13229073]\n",
            "weights [ 4601.00276621  9895.03580125  8396.9266087   3733.41016954\n",
            " 13816.2861323     85.34084636 -5373.03839919 14991.41987645]\n",
            "dw [ 1.16900e+04  2.53830e+04 -2.20000e+02 -1.92000e+03  1.03790e+04\n",
            " -6.98980e+04 -2.87057e+05  5.31886e+04]\n",
            "v_w [ 681.66387276  656.92107476  -95.48222144 -107.69295166   62.91971092\n",
            "  263.16439909 1753.36065546 1510.76206166]\n",
            "weights [ 3919.33889345  9238.11472649  8492.40883014  3841.1031212\n",
            " 13753.36642139  -177.82355273 -7126.39905465 13480.65781479]\n",
            "dw [  11690.           25383.            5348.           -1920.\n",
            "   10379.          -69207.         -281489.           53188.60000001]\n",
            "v_w [ 671.94748548  718.14396728  -59.1939993  -106.52365649  108.52273983\n",
            " -109.18704082  170.57958991 1625.62885549]\n",
            "weights [ 3247.39140797  8519.97075921  8551.60282944  3947.6267777\n",
            " 13644.84368156   -68.63651191 -7296.97864456 11855.0289593 ]\n",
            "dw [  13220.           25383.            5348.            1712.\n",
            "   10379.           69286.         -277857.           53188.60000001]\n",
            "v_w [  670.85273693   773.24457055   -26.53459937   -87.31129084\n",
            "   149.56546584   248.16166326 -1235.76336908  1729.00896994]\n",
            "weights [ 2576.53867103  7746.72618866  8578.13742881  4034.93806854\n",
            " 13495.27821572  -316.79817517 -6061.21527548 10126.01998936]\n",
            "dw [  37896.           25383.            5348.            1712.\n",
            "   10379.           73930.         -253181.           53188.60000001]\n",
            "v_w [  793.24746324   822.8351135      2.85886057   -70.02016176\n",
            "   186.50391926   592.99549693 -2378.09203217  1822.05107295]\n",
            "weights [ 1783.29120779  6923.89107516  8575.27856824  4104.9582303\n",
            " 13308.77429646  -909.7936721  -3683.12324331  8303.96891641]\n",
            "dw [ 37896.          25383.           5348.           1712.\n",
            "  10379.          73930.         619265.          53188.60000001]\n",
            "v_w [ 903.40271692  867.46660215   29.31297451  -54.45814558  219.74852733\n",
            "  903.34594724  956.04217105 1905.78896565]\n",
            "weights [  879.88849088  6056.42447302  8545.96559373  4159.41637589\n",
            " 13089.02576913 -1813.13961934 -4639.16541436  6398.17995075]\n",
            "dw [-6.42970000e+04 -4.34780000e+04 -5.43000000e+02 -3.99910378e+03\n",
            "  1.03790000e+04 -1.10901000e+05 -5.69890000e+05 -1.59179670e+05]\n",
            "v_w [  491.57744522   563.32994193    23.66667706   -69.00784995\n",
            "   249.6686746    258.50635252 -1989.01204606   919.31171955]\n",
            "weights [  388.31104565  5493.09453108  8522.29891667  4228.42422583\n",
            " 12839.35709453 -2071.64597186 -2650.1533683   5478.8682312 ]\n",
            "dw [-124621.99938348  -99162.99938395   -4352.          -13012.592936\n",
            "   10379.         -149817.64390545 -588643.99938348 -381565.98012059]\n",
            "v_w [-1.80690296e+02  1.11819508e+01 -4.59990646e-01 -1.27170030e+02\n",
            "  2.76596807e+02 -5.16432502e+02 -4.73333084e+03 -1.08044935e+03]\n",
            "weights [  569.00134187  5481.91258026  8522.75890731  4355.59425547\n",
            " 12562.76028739 -1555.2134696   2083.17747007  6559.31758421]\n",
            "dw [ -14764.   17023.    5348.   -3478.   10379.  -99772. -278533.   34445.]\n",
            "v_w [ -236.44126659    95.17875574    26.32600842  -131.84302667\n",
            "   300.83212643  -963.64925204 -5652.66275453  -800.17941771]\n",
            "weights [  805.44260846  5386.73382453  8496.4328989   4487.43728214\n",
            " 12261.92816097  -591.56421756  7735.84022461  7359.49700191]\n",
            "dw [ 33653.          25383.           5348.           1712.\n",
            "  10379.          63451.         750351.          53188.60000001]\n",
            "v_w [  -44.53213993   212.57588016    50.43340758  -110.098724\n",
            "   322.64391378  -550.02932683 -1335.64147908  -454.21847593]\n",
            "weights [  849.97474839  5174.15794436  8445.99949132  4597.53600614\n",
            " 11939.28424718   -41.53489073  9071.48170369  7813.71547785]\n",
            "dw [ 37896.          25383.           5348.           1712.\n",
            "  10379.         205016.         750351.          53188.60000001]\n",
            "v_w [ 149.40107406  318.23329215   72.13006682  -90.5288516   342.2745224\n",
            "  530.05360585 2549.67766883 -142.85362834]\n",
            "weights [  700.57367433  4855.92465221  8373.8694245   4688.06485774\n",
            " 11597.00972478  -571.58849658  6521.80403486  7956.56910619]\n",
            "dw [ -2391.         -16735.           5348.          -2802.\n",
            "  10379.          53791.         750351.          53188.60000001]\n",
            "v_w [ 122.50596665  202.73496293   91.65706014  -95.48596644  359.94207016\n",
            "  746.00324527 6046.46490195  137.37473449]\n",
            "weights [  578.06770768  4653.18968928  8282.21236436  4783.55082418\n",
            " 11237.06765461 -1317.59174185   475.33913291  7819.19437169]\n",
            "dw [-181429.99999997 -209967.          -26692.99999997  -21245.16221048\n",
            "  -44881.         -164651.1357659  -669255.         -481254.06559814]\n",
            "v_w [ -796.89463001  -867.37353336   -50.97364588  -192.16318085\n",
            "    99.54286315  -151.85275809  2095.54341175 -2282.63306695]\n",
            "weights [ 1374.96233769  5520.56322264  8333.18601024  4975.71400503\n",
            " 11137.52479147 -1165.73898375 -1620.20427884 10101.82743864]\n",
            "dw [-149546.         -167129.47131033  -27089.          -18561.40101238\n",
            "  -60404.47131033 -163602.13576592 -671619.47131047 -420017.86297696]\n",
            "v_w [-1464.93516701 -1616.28353658  -181.32128129  -265.75386783\n",
            "  -212.43377972  -954.67816111 -1472.10828598 -4154.45907514]\n",
            "weights [ 2839.8975047   7136.84675922  8514.50729153  5241.46787286\n",
            " 11349.95857119  -211.06082264  -148.09599286 14256.28651378]\n",
            "dw [ -53181.          -85123.           -7088.           -6434.\n",
            "   10379.          -98479.         -355445.           53188.60000001]\n",
            "v_w [-1584.34665031 -1880.27018292  -198.62915316  -271.34848104\n",
            "  -139.29540175 -1351.605345   -3102.12245738 -3473.07016762]\n",
            "weights [ 4424.24415501  9017.11694214  8713.13644469  5512.8163539\n",
            " 11489.25397293  1140.54452236  2954.02646452 17729.3566814 ]\n",
            "dw [ 37896.          25383.           5348.           1712.\n",
            "  10379.          67694.         750351.          53188.60000001]\n",
            "v_w [-1236.43198528 -1565.32816463  -152.02623784  -235.65363294\n",
            "   -73.47086157  -877.9748105    959.84478836 -2859.82015086]\n",
            "weights [ 5660.67614029 10582.44510676  8865.16268253  5748.46998684\n",
            " 11562.7248345   2018.51933286  1994.18167616 20589.17683226]\n",
            "dw [ 37896.          25383.           5348.           1712.\n",
            "  10379.         205016.         750351.          53188.60000001]\n",
            "v_w [ -923.30878675 -1281.88034816  -110.08361406  -203.52826965\n",
            "   -14.22877541   234.90267055  4615.61530952 -2307.89513577]\n",
            "weights [ 6583.98492704 11864.32545493  8975.24629659  5951.99825649\n",
            " 11576.95360992  1783.61666231 -2621.43363336 22897.07196804]\n",
            "dw [  37896.           25383.            5348.            1712.\n",
            "   10379.          -63392.         -253181.           53188.60000001]\n",
            "v_w [ -641.49790808 -1026.77731335   -72.33525265  -174.61544268\n",
            "    39.08910213  -105.5475965   2888.14877857 -1811.1626222 ]\n",
            "weights [ 7225.48283512 12891.10276828  9047.58154924  6126.61369917\n",
            " 11537.86450779  1889.16425881 -5509.58241194 24708.23459023]\n",
            "dw [  17864.           25383.            5348.            -390.\n",
            "   10379.          -64068.         -275315.           53188.60000001]\n",
            "v_w [ -488.02811727  -797.18458201   -38.36172739  -159.10389841\n",
            "    87.07519191  -415.33283685  1222.75890071 -1364.10335998]\n",
            "weights [ 7713.51095239 13688.28735029  9085.94327663  6285.71759758\n",
            " 11450.78931588  2304.49709567 -6732.34131265 26072.33795021]\n",
            "dw [  17864.           25383.            5347.99999993    -390.\n",
            "   10379.          -64067.99999541 -275315.00000004   53188.60000001]\n",
            "v_w [-349.90530554 -590.55112381   -7.78555465 -145.14350857  130.26267272\n",
            " -694.13955315 -276.09198936 -961.75002398]\n",
            "weights [ 8063.41625793 14278.8384741   9093.72883128  6430.86110615\n",
            " 11320.52664316  2998.63664881 -6456.24932329 27034.08797419]\n",
            "dw [  37896.           25383.            5348.            1712.\n",
            "   10379.           73930.         -253181.           53188.60000001]\n",
            "v_w [ -125.43477499  -404.58101143    19.73300082  -122.06915771\n",
            "   169.13140545  -255.07559783 -1514.38779042  -599.63202158]\n",
            "weights [ 8188.85103292 14683.41948553  9073.99583047  6552.93026387\n",
            " 11151.39523771  3253.71224664 -4941.86153287 27633.71999577]\n",
            "dw [  37896.           25383.            5348.            1712.\n",
            "   10379.           73930.         -253181.           53188.60000001]\n",
            "v_w [   76.58870251  -237.20791029    44.49970073  -101.30224194\n",
            "   204.11326491   140.08196195 -2628.85401138  -273.72581942]\n",
            "weights [ 8112.2623304  14920.62739582  9029.49612973  6654.23250581\n",
            " 10947.2819728   3113.63028469 -2313.00752149 27907.4458152 ]\n",
            "dw [  37896.           25383.            5348.            1712.\n",
            "   10379.           73930.         -253181.           53188.60000001]\n",
            "v_w [  258.40983226   -86.57211926    66.78973066   -82.61201775\n",
            "   235.59693841   495.72376576 -3631.87361024    19.58976252]\n",
            "weights [ 7853.85249814 15007.19951508  8962.70639907  6736.84452356\n",
            " 10711.68503439  2617.90651893  1318.86608875 27887.85605268]\n",
            "dw [  37896.           25383.            5348.            1712.\n",
            "   10379.          205016.         -122095.           53188.60000001]\n",
            "v_w [  422.04884903    49.00009267    86.85075759   -65.79081597\n",
            "   263.93224457  1471.23138918 -3879.16124922   283.57378627]\n",
            "weights [ 7431.80364911 14958.19942241  8875.85564148  6802.63533953\n",
            " 10447.75278981  1146.67512975  5198.02733797 27604.28226641]\n",
            "dw [ 37896.          25383.           5348.           1712.\n",
            "  10379.          67694.         750351.          53188.60000001]\n",
            "v_w [ 569.32396413  171.0150834   104.90568183  -50.65173438  289.43402012\n",
            " 1662.57825026  260.5098757   521.15940764]\n",
            "weights [ 6862.47968498 14787.18433901  8770.94995964  6853.28707391\n",
            " 10158.3187697   -515.90312051  4937.51746227 27083.12285877]\n",
            "dw [ 37896.          25383.           5348.           1712.\n",
            "  10379.          67694.         750351.          53188.60000001]\n",
            "v_w [ 701.87156772  280.82857506  121.15511365  -37.02656094  312.3856181\n",
            " 1834.79042524 3986.21388813  734.98646688]\n",
            "weights [ 6160.60811726 14506.35576395  8649.79484599  6890.31363485\n",
            "  9845.93315159 -2350.69354575   951.30357413 26348.13639189]\n",
            "dw [  -9238.           25383.            3966.           -3024.\n",
            "    7012.          -78498.         -282270.           53188.60000001]\n",
            "v_w [ 585.49441095  379.66071755  128.86960229  -48.44390484  316.20705629\n",
            " 1258.82138271 2176.24249932  927.43082019]\n",
            "weights [ 5575.11370631 14126.69504639  8520.92524371  6938.75753969\n",
            "  9529.7260953  -3609.51492846 -1224.93892519 25420.70557171]\n",
            "dw [ -11358.           16581.           -7411.           -4025.10378416\n",
            "  -31323.          -89420.         -316399.           53188.60000001]\n",
            "v_w [ 470.15496985  424.5996458    78.92764206  -63.72503328  127.97135066\n",
            "  685.83924444  376.62324939 1100.63073817]\n",
            "weights [ 5104.95873646 13702.09540059  8441.99760165  7002.48257297\n",
            "  9401.75474463 -4295.3541729  -1601.56217458 24320.07483354]\n",
            "dw [ -11358.44046227   16581.           -7411.44046227   -4025.10378416\n",
            "  -12620.          -89420.44046227 -316399.           53188.60000001]\n",
            "v_w [  366.34727055   465.04468122    33.97767554   -77.47804887\n",
            "    52.0742156    170.15311769 -1243.03407555  1256.51066435]\n",
            "weights [ 4738.61146591 13237.05071938  8408.01992611  7079.96062185\n",
            "  9349.68052904 -4465.50729059  -358.52809902 23063.56416918]\n",
            "dw [-9.23800e+03  2.53830e+04  3.96600e+03  2.42000e+02  7.01200e+03\n",
            " -7.84980e+04 -2.80844e+05  5.31886e+04]\n",
            "v_w [  283.5225435    545.4552131     50.40990799   -68.52024399\n",
            "    81.92679404  -239.35219408 -2522.950668    1396.80259792]\n",
            "weights [ 4455.08892241 12691.59550628  8357.61001812  7148.48086584\n",
            "  9267.753735   -4226.1550965   2164.42256897 21666.76157127]\n",
            "dw [ 37896.          25383.           5348.           1712.\n",
            "  10379.         -63392.         619265.          53188.60000001]\n",
            "v_w [ 444.65028915  617.82469179   72.10891719  -53.10821959  125.62911463\n",
            " -532.37697467  825.6693988  1523.06533813]\n",
            "weights [ 4010.43863326 12073.77081449  8285.50110093  7201.58908542\n",
            "  9142.12462036 -3693.77812183  1338.75317017 20143.69623314]\n",
            "dw [ 33653.          25383.           5348.           1712.\n",
            "  10379.         -67635.         619265.          53188.60000001]\n",
            "v_w [ 568.45026023  682.95722261   91.63802547  -39.23739763  164.96120317\n",
            " -817.31427721 3839.42745892 1636.70180431]\n",
            "weights [ 3441.98837302 11390.81359188  8193.86307546  7240.82648305\n",
            "  8977.16341719 -2876.46384462 -2500.67428876 18506.99442883]\n",
            "LR classification accuracy: 0.9215878990659417\n"
          ],
          "name": "stdout"
        }
      ]
    },
    {
      "cell_type": "code",
      "metadata": {
        "colab": {
          "base_uri": "https://localhost:8080/"
        },
        "id": "rlBaekrfpVwQ",
        "outputId": "d4d249a7-7a2d-4293-bc5e-4ce66052eac5"
      },
      "source": [
        "print(\"Pesos:\", regressor.weights)\n",
        "print(\"Bias:\", regressor.bias)"
      ],
      "execution_count": null,
      "outputs": [
        {
          "output_type": "stream",
          "text": [
            "Pesos: [ 0.02267928  0.04697047  0.02281419  0.00846847  0.04752902 -0.13952799\n",
            " -0.45308085  0.24035857]\n",
            "Bias: -1.1091464049827584\n"
          ],
          "name": "stdout"
        }
      ]
    },
    {
      "cell_type": "code",
      "metadata": {
        "colab": {
          "base_uri": "https://localhost:8080/"
        },
        "id": "YWuGTg2npPZ0",
        "outputId": "3e178a65-2f02-4ecf-d6c0-7879eebdbd45"
      },
      "source": [
        "print(\"Pesos:\", regressor.weights)\n",
        "print(\"Bias:\", regressor.bias)"
      ],
      "execution_count": null,
      "outputs": [
        {
          "output_type": "stream",
          "text": [
            "Pesos: [ 3441.98837302 11390.81359188  8193.86307546  7240.82648305\n",
            "  8977.16341719 -2876.46384462 -2500.67428876 18506.99442883]\n",
            "Bias: -3526.469599128031\n"
          ],
          "name": "stdout"
        }
      ]
    },
    {
      "cell_type": "code",
      "metadata": {
        "id": "2UOl_y6SPy0n"
      },
      "source": [
        "import pickle\n",
        "\n",
        "# guardamos el modelo para ser usado en la aplicación\n",
        "filename = 'model.pkl'\n",
        "pickle.dump(regressor, open(filename, 'wb'))"
      ],
      "execution_count": null,
      "outputs": []
    },
    {
      "cell_type": "code",
      "metadata": {
        "id": "fMsvDxkRQTbh"
      },
      "source": [
        "model = pickle.load(open('model.pkl', 'rb'))"
      ],
      "execution_count": null,
      "outputs": []
    },
    {
      "cell_type": "code",
      "metadata": {
        "colab": {
          "base_uri": "https://localhost:8080/",
          "height": 222
        },
        "id": "RIiP_rqnqC9m",
        "outputId": "66c06211-2fa4-4335-fb41-b39348d53a62"
      },
      "source": [
        "matriz = confusion_matrix(y_test, predictions)\n",
        "\n",
        "plot_confusion_matrix(conf_mat=matriz, figsize=(5,5), show_normed=False, cmap=new_inferno)\n",
        "plt.tight_layout()"
      ],
      "execution_count": null,
      "outputs": [
        {
          "output_type": "error",
          "ename": "NameError",
          "evalue": "ignored",
          "traceback": [
            "\u001b[0;31m---------------------------------------------------------------------------\u001b[0m",
            "\u001b[0;31mNameError\u001b[0m                                 Traceback (most recent call last)",
            "\u001b[0;32m<ipython-input-115-7269ee4c0b33>\u001b[0m in \u001b[0;36m<module>\u001b[0;34m()\u001b[0m\n\u001b[1;32m      1\u001b[0m \u001b[0mmatriz\u001b[0m \u001b[0;34m=\u001b[0m \u001b[0mconfusion_matrix\u001b[0m\u001b[0;34m(\u001b[0m\u001b[0my_test\u001b[0m\u001b[0;34m,\u001b[0m \u001b[0mpredictions\u001b[0m\u001b[0;34m)\u001b[0m\u001b[0;34m\u001b[0m\u001b[0;34m\u001b[0m\u001b[0m\n\u001b[1;32m      2\u001b[0m \u001b[0;34m\u001b[0m\u001b[0m\n\u001b[0;32m----> 3\u001b[0;31m \u001b[0mplot_confusion_matrix\u001b[0m\u001b[0;34m(\u001b[0m\u001b[0mconf_mat\u001b[0m\u001b[0;34m=\u001b[0m\u001b[0mmatriz\u001b[0m\u001b[0;34m,\u001b[0m \u001b[0mfigsize\u001b[0m\u001b[0;34m=\u001b[0m\u001b[0;34m(\u001b[0m\u001b[0;36m5\u001b[0m\u001b[0;34m,\u001b[0m\u001b[0;36m5\u001b[0m\u001b[0;34m)\u001b[0m\u001b[0;34m,\u001b[0m \u001b[0mshow_normed\u001b[0m\u001b[0;34m=\u001b[0m\u001b[0;32mFalse\u001b[0m\u001b[0;34m,\u001b[0m \u001b[0mcmap\u001b[0m\u001b[0;34m=\u001b[0m\u001b[0mnew_inferno\u001b[0m\u001b[0;34m)\u001b[0m\u001b[0;34m\u001b[0m\u001b[0;34m\u001b[0m\u001b[0m\n\u001b[0m\u001b[1;32m      4\u001b[0m \u001b[0mplt\u001b[0m\u001b[0;34m.\u001b[0m\u001b[0mtight_layout\u001b[0m\u001b[0;34m(\u001b[0m\u001b[0;34m)\u001b[0m\u001b[0;34m\u001b[0m\u001b[0;34m\u001b[0m\u001b[0m\n",
            "\u001b[0;31mNameError\u001b[0m: name 'new_inferno' is not defined"
          ]
        }
      ]
    },
    {
      "cell_type": "code",
      "metadata": {
        "id": "p_7jgr7kQSYn"
      },
      "source": [
        ""
      ],
      "execution_count": null,
      "outputs": []
    },
    {
      "cell_type": "code",
      "metadata": {
        "id": "rJj9MrBo_RjA"
      },
      "source": [
        ""
      ],
      "execution_count": null,
      "outputs": []
    }
  ]
}