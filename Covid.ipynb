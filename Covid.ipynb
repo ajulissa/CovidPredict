{
 "metadata": {
  "language_info": {
   "codemirror_mode": {
    "name": "ipython",
    "version": 3
   },
   "file_extension": ".py",
   "mimetype": "text/x-python",
   "name": "python",
   "nbconvert_exporter": "python",
   "pygments_lexer": "ipython3",
   "version": "3.7.5"
  },
  "orig_nbformat": 4,
  "kernelspec": {
   "name": "python3",
   "display_name": "Python 3.7.5 64-bit ('juli1': conda)"
  },
  "interpreter": {
   "hash": "55ebb47774802382452e7580af98e8a28ab13acaa1ff0daa824ab1177d1ff099"
  }
 },
 "nbformat": 4,
 "nbformat_minor": 2,
 "cells": [
  {
   "cell_type": "code",
   "execution_count": 1,
   "metadata": {},
   "outputs": [],
   "source": [
    "import pandas as pd\n",
    "import numpy as np\n",
    "import matplotlib.pyplot as plt"
   ]
  },
  {
   "cell_type": "code",
   "execution_count": 2,
   "metadata": {},
   "outputs": [
    {
     "output_type": "stream",
     "name": "stderr",
     "text": [
      "D:\\Anaconda\\envs\\juli1\\lib\\site-packages\\IPython\\core\\interactiveshell.py:3437: DtypeWarning: Columns (1,2,3,4,5) have mixed types.Specify dtype option on import or set low_memory=False.\n  exec(code_obj, self.user_global_ns, self.user_ns)\n"
     ]
    },
    {
     "output_type": "execute_result",
     "data": {
      "text/plain": [
       "         test_date cough fever sore_throat shortness_of_breath head_ache  \\\n",
       "0       2020-04-30     0     0           0                   0         0   \n",
       "1       2020-04-30     1     0           0                   0         0   \n",
       "2       2020-04-30     0     1           0                   0         0   \n",
       "3       2020-04-30     1     0           0                   0         0   \n",
       "4       2020-04-30     1     0           0                   0         0   \n",
       "...            ...   ...   ...         ...                 ...       ...   \n",
       "278843  2020-03-11     0     0           0                   0         0   \n",
       "278844  2020-03-11     0     0           0                   0         0   \n",
       "278845  2020-03-11     0     0           0                   0         0   \n",
       "278846  2020-03-11     0     0           0                   0         0   \n",
       "278847  2020-03-11     0     0           0                   0         0   \n",
       "\n",
       "       corona_result age_60_and_above  gender         test_indication  \n",
       "0           negative             None  female                   Other  \n",
       "1           negative             None  female                   Other  \n",
       "2           negative             None    male                   Other  \n",
       "3           negative             None  female                   Other  \n",
       "4           negative             None    male                   Other  \n",
       "...              ...              ...     ...                     ...  \n",
       "278843      negative             None    None                   Other  \n",
       "278844      negative             None    None                   Other  \n",
       "278845      positive             None    None  Contact with confirmed  \n",
       "278846         other             None    None                   Other  \n",
       "278847      negative             None    None                   Other  \n",
       "\n",
       "[278848 rows x 10 columns]"
      ],
      "text/html": "<div>\n<style scoped>\n    .dataframe tbody tr th:only-of-type {\n        vertical-align: middle;\n    }\n\n    .dataframe tbody tr th {\n        vertical-align: top;\n    }\n\n    .dataframe thead th {\n        text-align: right;\n    }\n</style>\n<table border=\"1\" class=\"dataframe\">\n  <thead>\n    <tr style=\"text-align: right;\">\n      <th></th>\n      <th>test_date</th>\n      <th>cough</th>\n      <th>fever</th>\n      <th>sore_throat</th>\n      <th>shortness_of_breath</th>\n      <th>head_ache</th>\n      <th>corona_result</th>\n      <th>age_60_and_above</th>\n      <th>gender</th>\n      <th>test_indication</th>\n    </tr>\n  </thead>\n  <tbody>\n    <tr>\n      <th>0</th>\n      <td>2020-04-30</td>\n      <td>0</td>\n      <td>0</td>\n      <td>0</td>\n      <td>0</td>\n      <td>0</td>\n      <td>negative</td>\n      <td>None</td>\n      <td>female</td>\n      <td>Other</td>\n    </tr>\n    <tr>\n      <th>1</th>\n      <td>2020-04-30</td>\n      <td>1</td>\n      <td>0</td>\n      <td>0</td>\n      <td>0</td>\n      <td>0</td>\n      <td>negative</td>\n      <td>None</td>\n      <td>female</td>\n      <td>Other</td>\n    </tr>\n    <tr>\n      <th>2</th>\n      <td>2020-04-30</td>\n      <td>0</td>\n      <td>1</td>\n      <td>0</td>\n      <td>0</td>\n      <td>0</td>\n      <td>negative</td>\n      <td>None</td>\n      <td>male</td>\n      <td>Other</td>\n    </tr>\n    <tr>\n      <th>3</th>\n      <td>2020-04-30</td>\n      <td>1</td>\n      <td>0</td>\n      <td>0</td>\n      <td>0</td>\n      <td>0</td>\n      <td>negative</td>\n      <td>None</td>\n      <td>female</td>\n      <td>Other</td>\n    </tr>\n    <tr>\n      <th>4</th>\n      <td>2020-04-30</td>\n      <td>1</td>\n      <td>0</td>\n      <td>0</td>\n      <td>0</td>\n      <td>0</td>\n      <td>negative</td>\n      <td>None</td>\n      <td>male</td>\n      <td>Other</td>\n    </tr>\n    <tr>\n      <th>...</th>\n      <td>...</td>\n      <td>...</td>\n      <td>...</td>\n      <td>...</td>\n      <td>...</td>\n      <td>...</td>\n      <td>...</td>\n      <td>...</td>\n      <td>...</td>\n      <td>...</td>\n    </tr>\n    <tr>\n      <th>278843</th>\n      <td>2020-03-11</td>\n      <td>0</td>\n      <td>0</td>\n      <td>0</td>\n      <td>0</td>\n      <td>0</td>\n      <td>negative</td>\n      <td>None</td>\n      <td>None</td>\n      <td>Other</td>\n    </tr>\n    <tr>\n      <th>278844</th>\n      <td>2020-03-11</td>\n      <td>0</td>\n      <td>0</td>\n      <td>0</td>\n      <td>0</td>\n      <td>0</td>\n      <td>negative</td>\n      <td>None</td>\n      <td>None</td>\n      <td>Other</td>\n    </tr>\n    <tr>\n      <th>278845</th>\n      <td>2020-03-11</td>\n      <td>0</td>\n      <td>0</td>\n      <td>0</td>\n      <td>0</td>\n      <td>0</td>\n      <td>positive</td>\n      <td>None</td>\n      <td>None</td>\n      <td>Contact with confirmed</td>\n    </tr>\n    <tr>\n      <th>278846</th>\n      <td>2020-03-11</td>\n      <td>0</td>\n      <td>0</td>\n      <td>0</td>\n      <td>0</td>\n      <td>0</td>\n      <td>other</td>\n      <td>None</td>\n      <td>None</td>\n      <td>Other</td>\n    </tr>\n    <tr>\n      <th>278847</th>\n      <td>2020-03-11</td>\n      <td>0</td>\n      <td>0</td>\n      <td>0</td>\n      <td>0</td>\n      <td>0</td>\n      <td>negative</td>\n      <td>None</td>\n      <td>None</td>\n      <td>Other</td>\n    </tr>\n  </tbody>\n</table>\n<p>278848 rows × 10 columns</p>\n</div>"
     },
     "metadata": {},
     "execution_count": 2
    }
   ],
   "source": [
    "df006 = pd.read_csv(\"covidTested_v006.csv\")\n",
    "df006"
   ]
  },
  {
   "cell_type": "code",
   "execution_count": 3,
   "metadata": {},
   "outputs": [
    {
     "output_type": "stream",
     "name": "stderr",
     "text": [
      "D:\\Anaconda\\envs\\juli1\\lib\\site-packages\\IPython\\core\\interactiveshell.py:3437: DtypeWarning: Columns (7) have mixed types.Specify dtype option on import or set low_memory=False.\n  exec(code_obj, self.user_global_ns, self.user_ns)\n"
     ]
    },
    {
     "output_type": "execute_result",
     "data": {
      "text/plain": [
       "              fecha  tos  fiebre  dolor_de_garganta  dificultad_para_respirar  \\\n",
       "0        2020-11-12    0       0                  0                         0   \n",
       "1        2020-11-12    0       1                  0                         0   \n",
       "2        2020-11-12    0       0                  0                         0   \n",
       "3        2020-11-12    0       0                  0                         0   \n",
       "4        2020-11-12    0       1                  0                         0   \n",
       "...             ...  ...     ...                ...                       ...   \n",
       "2742591  2020-03-11    0       0                  0                         0   \n",
       "2742592  2020-03-11    0       0                  0                         0   \n",
       "2742593  2020-03-11    0       0                  0                         0   \n",
       "2742594  2020-03-11    0       0                  0                         0   \n",
       "2742595  2020-03-11    0       1                  0                         0   \n",
       "\n",
       "         dolor_de_cabeza resultado sesenta_mas    sexo            indicaciones  \n",
       "0                      0  negative          No    male                   Other  \n",
       "1                      0  negative          No    male                   Other  \n",
       "2                      0  negative         Yes  female                   Other  \n",
       "3                      0  negative          No    male                   Other  \n",
       "4                      0  negative          No    male  Contact with confirmed  \n",
       "...                  ...       ...         ...     ...                     ...  \n",
       "2742591                0  negative         NaN  female                   Other  \n",
       "2742592                0  negative         NaN  female                   Other  \n",
       "2742593                0     other         NaN    male                   Other  \n",
       "2742594                0  negative         NaN  female                   Other  \n",
       "2742595                0  negative         NaN    male                   Other  \n",
       "\n",
       "[2742596 rows x 10 columns]"
      ],
      "text/html": "<div>\n<style scoped>\n    .dataframe tbody tr th:only-of-type {\n        vertical-align: middle;\n    }\n\n    .dataframe tbody tr th {\n        vertical-align: top;\n    }\n\n    .dataframe thead th {\n        text-align: right;\n    }\n</style>\n<table border=\"1\" class=\"dataframe\">\n  <thead>\n    <tr style=\"text-align: right;\">\n      <th></th>\n      <th>fecha</th>\n      <th>tos</th>\n      <th>fiebre</th>\n      <th>dolor_de_garganta</th>\n      <th>dificultad_para_respirar</th>\n      <th>dolor_de_cabeza</th>\n      <th>resultado</th>\n      <th>sesenta_mas</th>\n      <th>sexo</th>\n      <th>indicaciones</th>\n    </tr>\n  </thead>\n  <tbody>\n    <tr>\n      <th>0</th>\n      <td>2020-11-12</td>\n      <td>0</td>\n      <td>0</td>\n      <td>0</td>\n      <td>0</td>\n      <td>0</td>\n      <td>negative</td>\n      <td>No</td>\n      <td>male</td>\n      <td>Other</td>\n    </tr>\n    <tr>\n      <th>1</th>\n      <td>2020-11-12</td>\n      <td>0</td>\n      <td>1</td>\n      <td>0</td>\n      <td>0</td>\n      <td>0</td>\n      <td>negative</td>\n      <td>No</td>\n      <td>male</td>\n      <td>Other</td>\n    </tr>\n    <tr>\n      <th>2</th>\n      <td>2020-11-12</td>\n      <td>0</td>\n      <td>0</td>\n      <td>0</td>\n      <td>0</td>\n      <td>0</td>\n      <td>negative</td>\n      <td>Yes</td>\n      <td>female</td>\n      <td>Other</td>\n    </tr>\n    <tr>\n      <th>3</th>\n      <td>2020-11-12</td>\n      <td>0</td>\n      <td>0</td>\n      <td>0</td>\n      <td>0</td>\n      <td>0</td>\n      <td>negative</td>\n      <td>No</td>\n      <td>male</td>\n      <td>Other</td>\n    </tr>\n    <tr>\n      <th>4</th>\n      <td>2020-11-12</td>\n      <td>0</td>\n      <td>1</td>\n      <td>0</td>\n      <td>0</td>\n      <td>0</td>\n      <td>negative</td>\n      <td>No</td>\n      <td>male</td>\n      <td>Contact with confirmed</td>\n    </tr>\n    <tr>\n      <th>...</th>\n      <td>...</td>\n      <td>...</td>\n      <td>...</td>\n      <td>...</td>\n      <td>...</td>\n      <td>...</td>\n      <td>...</td>\n      <td>...</td>\n      <td>...</td>\n      <td>...</td>\n    </tr>\n    <tr>\n      <th>2742591</th>\n      <td>2020-03-11</td>\n      <td>0</td>\n      <td>0</td>\n      <td>0</td>\n      <td>0</td>\n      <td>0</td>\n      <td>negative</td>\n      <td>NaN</td>\n      <td>female</td>\n      <td>Other</td>\n    </tr>\n    <tr>\n      <th>2742592</th>\n      <td>2020-03-11</td>\n      <td>0</td>\n      <td>0</td>\n      <td>0</td>\n      <td>0</td>\n      <td>0</td>\n      <td>negative</td>\n      <td>NaN</td>\n      <td>female</td>\n      <td>Other</td>\n    </tr>\n    <tr>\n      <th>2742593</th>\n      <td>2020-03-11</td>\n      <td>0</td>\n      <td>0</td>\n      <td>0</td>\n      <td>0</td>\n      <td>0</td>\n      <td>other</td>\n      <td>NaN</td>\n      <td>male</td>\n      <td>Other</td>\n    </tr>\n    <tr>\n      <th>2742594</th>\n      <td>2020-03-11</td>\n      <td>0</td>\n      <td>0</td>\n      <td>0</td>\n      <td>0</td>\n      <td>0</td>\n      <td>negative</td>\n      <td>NaN</td>\n      <td>female</td>\n      <td>Other</td>\n    </tr>\n    <tr>\n      <th>2742595</th>\n      <td>2020-03-11</td>\n      <td>0</td>\n      <td>1</td>\n      <td>0</td>\n      <td>0</td>\n      <td>0</td>\n      <td>negative</td>\n      <td>NaN</td>\n      <td>male</td>\n      <td>Other</td>\n    </tr>\n  </tbody>\n</table>\n<p>2742596 rows × 10 columns</p>\n</div>"
     },
     "metadata": {},
     "execution_count": 3
    }
   ],
   "source": [
    "df0083 = pd.read_csv(\"covidTested_v0083.csv\")\n",
    "df0083"
   ]
  },
  {
   "cell_type": "code",
   "execution_count": 4,
   "metadata": {},
   "outputs": [
    {
     "output_type": "execute_result",
     "data": {
      "text/plain": [
       "negative    260227\n",
       "positive     14729\n",
       "other         3892\n",
       "Name: corona_result, dtype: int64"
      ]
     },
     "metadata": {},
     "execution_count": 4
    }
   ],
   "source": [
    "df006['corona_result'].value_counts()"
   ]
  },
  {
   "cell_type": "code",
   "execution_count": 5,
   "metadata": {},
   "outputs": [
    {
     "output_type": "execute_result",
     "data": {
      "text/plain": [
       "negative    2480403\n",
       "positive     220975\n",
       "other         41218\n",
       "Name: resultado, dtype: int64"
      ]
     },
     "metadata": {},
     "execution_count": 5
    }
   ],
   "source": [
    "df0083['resultado'].value_counts()"
   ]
  },
  {
   "cell_type": "code",
   "execution_count": 7,
   "metadata": {},
   "outputs": [
    {
     "output_type": "execute_result",
     "data": {
      "text/plain": [
       "No     1908553\n",
       "Yes     286399\n",
       "Name: sesenta_mas, dtype: int64"
      ]
     },
     "metadata": {},
     "execution_count": 7
    }
   ],
   "source": [
    "df0083['sesenta_mas'].value_counts()"
   ]
  },
  {
   "cell_type": "code",
   "execution_count": 8,
   "metadata": {},
   "outputs": [
    {
     "output_type": "execute_result",
     "data": {
      "text/plain": [
       "fecha                            0\n",
       "tos                              0\n",
       "fiebre                           0\n",
       "dolor_de_garganta                0\n",
       "dificultad_para_respirar         0\n",
       "dolor_de_cabeza                  0\n",
       "resultado                        0\n",
       "sesenta_mas                 547644\n",
       "sexo                         92886\n",
       "indicaciones                     0\n",
       "dtype: int64"
      ]
     },
     "metadata": {},
     "execution_count": 8
    }
   ],
   "source": [
    "df0083.isnull().sum() "
   ]
  },
  {
   "cell_type": "code",
   "execution_count": 37,
   "metadata": {},
   "outputs": [
    {
     "output_type": "execute_result",
     "data": {
      "text/plain": [
       "              fecha  tos  fiebre  dolor_de_garganta  dificultad_para_respirar  \\\n",
       "0        2020-11-12    0       0                  0                         0   \n",
       "1        2020-11-12    0       1                  0                         0   \n",
       "2        2020-11-12    0       0                  0                         0   \n",
       "3        2020-11-12    0       0                  0                         0   \n",
       "4        2020-11-12    0       1                  0                         0   \n",
       "...             ...  ...     ...                ...                       ...   \n",
       "2731639  2020-03-20    1       1                  1                         1   \n",
       "2731640  2020-03-20    0       0                  0                         0   \n",
       "2731643  2020-03-20    1       0                  0                         0   \n",
       "2731644  2020-03-20    0       0                  0                         0   \n",
       "2731647  2020-03-20    0       0                  0                         0   \n",
       "\n",
       "         dolor_de_cabeza resultado sesenta_mas    sexo            indicaciones  \n",
       "0                      0  negative          No    male                   Other  \n",
       "1                      0  negative          No    male                   Other  \n",
       "2                      0  negative         Yes  female                   Other  \n",
       "3                      0  negative          No    male                   Other  \n",
       "4                      0  negative          No    male  Contact with confirmed  \n",
       "...                  ...       ...         ...     ...                     ...  \n",
       "2731639                1  positive          No  female  Contact with confirmed  \n",
       "2731640                0  negative          No  female                   Other  \n",
       "2731643                0  negative          No    male  Contact with confirmed  \n",
       "2731644                0  negative          No  female                   Other  \n",
       "2731647                0  negative          No  female                   Other  \n",
       "\n",
       "[2186227 rows x 10 columns]"
      ],
      "text/html": "<div>\n<style scoped>\n    .dataframe tbody tr th:only-of-type {\n        vertical-align: middle;\n    }\n\n    .dataframe tbody tr th {\n        vertical-align: top;\n    }\n\n    .dataframe thead th {\n        text-align: right;\n    }\n</style>\n<table border=\"1\" class=\"dataframe\">\n  <thead>\n    <tr style=\"text-align: right;\">\n      <th></th>\n      <th>fecha</th>\n      <th>tos</th>\n      <th>fiebre</th>\n      <th>dolor_de_garganta</th>\n      <th>dificultad_para_respirar</th>\n      <th>dolor_de_cabeza</th>\n      <th>resultado</th>\n      <th>sesenta_mas</th>\n      <th>sexo</th>\n      <th>indicaciones</th>\n    </tr>\n  </thead>\n  <tbody>\n    <tr>\n      <th>0</th>\n      <td>2020-11-12</td>\n      <td>0</td>\n      <td>0</td>\n      <td>0</td>\n      <td>0</td>\n      <td>0</td>\n      <td>negative</td>\n      <td>No</td>\n      <td>male</td>\n      <td>Other</td>\n    </tr>\n    <tr>\n      <th>1</th>\n      <td>2020-11-12</td>\n      <td>0</td>\n      <td>1</td>\n      <td>0</td>\n      <td>0</td>\n      <td>0</td>\n      <td>negative</td>\n      <td>No</td>\n      <td>male</td>\n      <td>Other</td>\n    </tr>\n    <tr>\n      <th>2</th>\n      <td>2020-11-12</td>\n      <td>0</td>\n      <td>0</td>\n      <td>0</td>\n      <td>0</td>\n      <td>0</td>\n      <td>negative</td>\n      <td>Yes</td>\n      <td>female</td>\n      <td>Other</td>\n    </tr>\n    <tr>\n      <th>3</th>\n      <td>2020-11-12</td>\n      <td>0</td>\n      <td>0</td>\n      <td>0</td>\n      <td>0</td>\n      <td>0</td>\n      <td>negative</td>\n      <td>No</td>\n      <td>male</td>\n      <td>Other</td>\n    </tr>\n    <tr>\n      <th>4</th>\n      <td>2020-11-12</td>\n      <td>0</td>\n      <td>1</td>\n      <td>0</td>\n      <td>0</td>\n      <td>0</td>\n      <td>negative</td>\n      <td>No</td>\n      <td>male</td>\n      <td>Contact with confirmed</td>\n    </tr>\n    <tr>\n      <th>...</th>\n      <td>...</td>\n      <td>...</td>\n      <td>...</td>\n      <td>...</td>\n      <td>...</td>\n      <td>...</td>\n      <td>...</td>\n      <td>...</td>\n      <td>...</td>\n      <td>...</td>\n    </tr>\n    <tr>\n      <th>2731639</th>\n      <td>2020-03-20</td>\n      <td>1</td>\n      <td>1</td>\n      <td>1</td>\n      <td>1</td>\n      <td>1</td>\n      <td>positive</td>\n      <td>No</td>\n      <td>female</td>\n      <td>Contact with confirmed</td>\n    </tr>\n    <tr>\n      <th>2731640</th>\n      <td>2020-03-20</td>\n      <td>0</td>\n      <td>0</td>\n      <td>0</td>\n      <td>0</td>\n      <td>0</td>\n      <td>negative</td>\n      <td>No</td>\n      <td>female</td>\n      <td>Other</td>\n    </tr>\n    <tr>\n      <th>2731643</th>\n      <td>2020-03-20</td>\n      <td>1</td>\n      <td>0</td>\n      <td>0</td>\n      <td>0</td>\n      <td>0</td>\n      <td>negative</td>\n      <td>No</td>\n      <td>male</td>\n      <td>Contact with confirmed</td>\n    </tr>\n    <tr>\n      <th>2731644</th>\n      <td>2020-03-20</td>\n      <td>0</td>\n      <td>0</td>\n      <td>0</td>\n      <td>0</td>\n      <td>0</td>\n      <td>negative</td>\n      <td>No</td>\n      <td>female</td>\n      <td>Other</td>\n    </tr>\n    <tr>\n      <th>2731647</th>\n      <td>2020-03-20</td>\n      <td>0</td>\n      <td>0</td>\n      <td>0</td>\n      <td>0</td>\n      <td>0</td>\n      <td>negative</td>\n      <td>No</td>\n      <td>female</td>\n      <td>Other</td>\n    </tr>\n  </tbody>\n</table>\n<p>2186227 rows × 10 columns</p>\n</div>"
     },
     "metadata": {},
     "execution_count": 37
    }
   ],
   "source": [
    "data = df0083.dropna()\n",
    "data"
   ]
  },
  {
   "cell_type": "code",
   "execution_count": 10,
   "metadata": {},
   "outputs": [
    {
     "output_type": "execute_result",
     "data": {
      "text/plain": [
       "negative    1943172\n",
       "positive     208726\n",
       "other         34329\n",
       "Name: resultado, dtype: int64"
      ]
     },
     "metadata": {},
     "execution_count": 10
    }
   ],
   "source": [
    "data['resultado'].value_counts()"
   ]
  },
  {
   "cell_type": "code",
   "execution_count": 38,
   "metadata": {},
   "outputs": [
    {
     "output_type": "execute_result",
     "data": {
      "text/plain": [
       "              fecha  tos  fiebre  dolor_de_garganta  dificultad_para_respirar  \\\n",
       "0        2020-11-12    0       0                  0                         0   \n",
       "1        2020-11-12    0       1                  0                         0   \n",
       "2        2020-11-12    0       0                  0                         0   \n",
       "3        2020-11-12    0       0                  0                         0   \n",
       "4        2020-11-12    0       1                  0                         0   \n",
       "...             ...  ...     ...                ...                       ...   \n",
       "2731639  2020-03-20    1       1                  1                         1   \n",
       "2731640  2020-03-20    0       0                  0                         0   \n",
       "2731643  2020-03-20    1       0                  0                         0   \n",
       "2731644  2020-03-20    0       0                  0                         0   \n",
       "2731647  2020-03-20    0       0                  0                         0   \n",
       "\n",
       "         dolor_de_cabeza resultado sesenta_mas    sexo            indicaciones  \n",
       "0                      0  negative          No    male                   Other  \n",
       "1                      0  negative          No    male                   Other  \n",
       "2                      0  negative         Yes  female                   Other  \n",
       "3                      0  negative          No    male                   Other  \n",
       "4                      0  negative          No    male  Contact with confirmed  \n",
       "...                  ...       ...         ...     ...                     ...  \n",
       "2731639                1  positive          No  female  Contact with confirmed  \n",
       "2731640                0  negative          No  female                   Other  \n",
       "2731643                0  negative          No    male  Contact with confirmed  \n",
       "2731644                0  negative          No  female                   Other  \n",
       "2731647                0  negative          No  female                   Other  \n",
       "\n",
       "[2151898 rows x 10 columns]"
      ],
      "text/html": "<div>\n<style scoped>\n    .dataframe tbody tr th:only-of-type {\n        vertical-align: middle;\n    }\n\n    .dataframe tbody tr th {\n        vertical-align: top;\n    }\n\n    .dataframe thead th {\n        text-align: right;\n    }\n</style>\n<table border=\"1\" class=\"dataframe\">\n  <thead>\n    <tr style=\"text-align: right;\">\n      <th></th>\n      <th>fecha</th>\n      <th>tos</th>\n      <th>fiebre</th>\n      <th>dolor_de_garganta</th>\n      <th>dificultad_para_respirar</th>\n      <th>dolor_de_cabeza</th>\n      <th>resultado</th>\n      <th>sesenta_mas</th>\n      <th>sexo</th>\n      <th>indicaciones</th>\n    </tr>\n  </thead>\n  <tbody>\n    <tr>\n      <th>0</th>\n      <td>2020-11-12</td>\n      <td>0</td>\n      <td>0</td>\n      <td>0</td>\n      <td>0</td>\n      <td>0</td>\n      <td>negative</td>\n      <td>No</td>\n      <td>male</td>\n      <td>Other</td>\n    </tr>\n    <tr>\n      <th>1</th>\n      <td>2020-11-12</td>\n      <td>0</td>\n      <td>1</td>\n      <td>0</td>\n      <td>0</td>\n      <td>0</td>\n      <td>negative</td>\n      <td>No</td>\n      <td>male</td>\n      <td>Other</td>\n    </tr>\n    <tr>\n      <th>2</th>\n      <td>2020-11-12</td>\n      <td>0</td>\n      <td>0</td>\n      <td>0</td>\n      <td>0</td>\n      <td>0</td>\n      <td>negative</td>\n      <td>Yes</td>\n      <td>female</td>\n      <td>Other</td>\n    </tr>\n    <tr>\n      <th>3</th>\n      <td>2020-11-12</td>\n      <td>0</td>\n      <td>0</td>\n      <td>0</td>\n      <td>0</td>\n      <td>0</td>\n      <td>negative</td>\n      <td>No</td>\n      <td>male</td>\n      <td>Other</td>\n    </tr>\n    <tr>\n      <th>4</th>\n      <td>2020-11-12</td>\n      <td>0</td>\n      <td>1</td>\n      <td>0</td>\n      <td>0</td>\n      <td>0</td>\n      <td>negative</td>\n      <td>No</td>\n      <td>male</td>\n      <td>Contact with confirmed</td>\n    </tr>\n    <tr>\n      <th>...</th>\n      <td>...</td>\n      <td>...</td>\n      <td>...</td>\n      <td>...</td>\n      <td>...</td>\n      <td>...</td>\n      <td>...</td>\n      <td>...</td>\n      <td>...</td>\n      <td>...</td>\n    </tr>\n    <tr>\n      <th>2731639</th>\n      <td>2020-03-20</td>\n      <td>1</td>\n      <td>1</td>\n      <td>1</td>\n      <td>1</td>\n      <td>1</td>\n      <td>positive</td>\n      <td>No</td>\n      <td>female</td>\n      <td>Contact with confirmed</td>\n    </tr>\n    <tr>\n      <th>2731640</th>\n      <td>2020-03-20</td>\n      <td>0</td>\n      <td>0</td>\n      <td>0</td>\n      <td>0</td>\n      <td>0</td>\n      <td>negative</td>\n      <td>No</td>\n      <td>female</td>\n      <td>Other</td>\n    </tr>\n    <tr>\n      <th>2731643</th>\n      <td>2020-03-20</td>\n      <td>1</td>\n      <td>0</td>\n      <td>0</td>\n      <td>0</td>\n      <td>0</td>\n      <td>negative</td>\n      <td>No</td>\n      <td>male</td>\n      <td>Contact with confirmed</td>\n    </tr>\n    <tr>\n      <th>2731644</th>\n      <td>2020-03-20</td>\n      <td>0</td>\n      <td>0</td>\n      <td>0</td>\n      <td>0</td>\n      <td>0</td>\n      <td>negative</td>\n      <td>No</td>\n      <td>female</td>\n      <td>Other</td>\n    </tr>\n    <tr>\n      <th>2731647</th>\n      <td>2020-03-20</td>\n      <td>0</td>\n      <td>0</td>\n      <td>0</td>\n      <td>0</td>\n      <td>0</td>\n      <td>negative</td>\n      <td>No</td>\n      <td>female</td>\n      <td>Other</td>\n    </tr>\n  </tbody>\n</table>\n<p>2151898 rows × 10 columns</p>\n</div>"
     },
     "metadata": {},
     "execution_count": 38
    }
   ],
   "source": [
    "data = data.drop(data[data[\"resultado\"].str.contains(\"other\")].index)\n",
    "data"
   ]
  },
  {
   "cell_type": "code",
   "execution_count": 44,
   "metadata": {},
   "outputs": [
    {
     "output_type": "execute_result",
     "data": {
      "text/plain": [
       "0    1943172\n",
       "1     208726\n",
       "Name: resultado, dtype: int64"
      ]
     },
     "metadata": {},
     "execution_count": 44
    }
   ],
   "source": [
    "data['resultado'].value_counts()"
   ]
  },
  {
   "cell_type": "code",
   "execution_count": 13,
   "metadata": {},
   "outputs": [
    {
     "output_type": "execute_result",
     "data": {
      "text/plain": [
       "Other                     1988259\n",
       "Contact with confirmed     147809\n",
       "Abroad                      15830\n",
       "Name: indicaciones, dtype: int64"
      ]
     },
     "metadata": {},
     "execution_count": 13
    }
   ],
   "source": [
    "data['indicaciones'].value_counts()"
   ]
  },
  {
   "source": [
    "contact = 2\n",
    "\n",
    "abroad = 1\n",
    "\n",
    "other = 0"
   ],
   "cell_type": "markdown",
   "metadata": {}
  },
  {
   "cell_type": "code",
   "execution_count": 39,
   "metadata": {},
   "outputs": [
    {
     "output_type": "execute_result",
     "data": {
      "text/plain": [
       "              fecha  tos  fiebre  dolor_de_garganta  dificultad_para_respirar  \\\n",
       "0        2020-11-12    0       0                  0                         0   \n",
       "1        2020-11-12    0       1                  0                         0   \n",
       "2        2020-11-12    0       0                  0                         0   \n",
       "3        2020-11-12    0       0                  0                         0   \n",
       "4        2020-11-12    0       1                  0                         0   \n",
       "...             ...  ...     ...                ...                       ...   \n",
       "2731639  2020-03-20    1       1                  1                         1   \n",
       "2731640  2020-03-20    0       0                  0                         0   \n",
       "2731643  2020-03-20    1       0                  0                         0   \n",
       "2731644  2020-03-20    0       0                  0                         0   \n",
       "2731647  2020-03-20    0       0                  0                         0   \n",
       "\n",
       "         dolor_de_cabeza  resultado  sesenta_mas  sexo  indicaciones  \n",
       "0                      0          0            0     1             0  \n",
       "1                      0          0            0     1             0  \n",
       "2                      0          0            1     0             0  \n",
       "3                      0          0            0     1             0  \n",
       "4                      0          0            0     1             3  \n",
       "...                  ...        ...          ...   ...           ...  \n",
       "2731639                1          1            0     0             3  \n",
       "2731640                0          0            0     0             0  \n",
       "2731643                0          0            0     1             3  \n",
       "2731644                0          0            0     0             0  \n",
       "2731647                0          0            0     0             0  \n",
       "\n",
       "[2151898 rows x 10 columns]"
      ],
      "text/html": "<div>\n<style scoped>\n    .dataframe tbody tr th:only-of-type {\n        vertical-align: middle;\n    }\n\n    .dataframe tbody tr th {\n        vertical-align: top;\n    }\n\n    .dataframe thead th {\n        text-align: right;\n    }\n</style>\n<table border=\"1\" class=\"dataframe\">\n  <thead>\n    <tr style=\"text-align: right;\">\n      <th></th>\n      <th>fecha</th>\n      <th>tos</th>\n      <th>fiebre</th>\n      <th>dolor_de_garganta</th>\n      <th>dificultad_para_respirar</th>\n      <th>dolor_de_cabeza</th>\n      <th>resultado</th>\n      <th>sesenta_mas</th>\n      <th>sexo</th>\n      <th>indicaciones</th>\n    </tr>\n  </thead>\n  <tbody>\n    <tr>\n      <th>0</th>\n      <td>2020-11-12</td>\n      <td>0</td>\n      <td>0</td>\n      <td>0</td>\n      <td>0</td>\n      <td>0</td>\n      <td>0</td>\n      <td>0</td>\n      <td>1</td>\n      <td>0</td>\n    </tr>\n    <tr>\n      <th>1</th>\n      <td>2020-11-12</td>\n      <td>0</td>\n      <td>1</td>\n      <td>0</td>\n      <td>0</td>\n      <td>0</td>\n      <td>0</td>\n      <td>0</td>\n      <td>1</td>\n      <td>0</td>\n    </tr>\n    <tr>\n      <th>2</th>\n      <td>2020-11-12</td>\n      <td>0</td>\n      <td>0</td>\n      <td>0</td>\n      <td>0</td>\n      <td>0</td>\n      <td>0</td>\n      <td>1</td>\n      <td>0</td>\n      <td>0</td>\n    </tr>\n    <tr>\n      <th>3</th>\n      <td>2020-11-12</td>\n      <td>0</td>\n      <td>0</td>\n      <td>0</td>\n      <td>0</td>\n      <td>0</td>\n      <td>0</td>\n      <td>0</td>\n      <td>1</td>\n      <td>0</td>\n    </tr>\n    <tr>\n      <th>4</th>\n      <td>2020-11-12</td>\n      <td>0</td>\n      <td>1</td>\n      <td>0</td>\n      <td>0</td>\n      <td>0</td>\n      <td>0</td>\n      <td>0</td>\n      <td>1</td>\n      <td>3</td>\n    </tr>\n    <tr>\n      <th>...</th>\n      <td>...</td>\n      <td>...</td>\n      <td>...</td>\n      <td>...</td>\n      <td>...</td>\n      <td>...</td>\n      <td>...</td>\n      <td>...</td>\n      <td>...</td>\n      <td>...</td>\n    </tr>\n    <tr>\n      <th>2731639</th>\n      <td>2020-03-20</td>\n      <td>1</td>\n      <td>1</td>\n      <td>1</td>\n      <td>1</td>\n      <td>1</td>\n      <td>1</td>\n      <td>0</td>\n      <td>0</td>\n      <td>3</td>\n    </tr>\n    <tr>\n      <th>2731640</th>\n      <td>2020-03-20</td>\n      <td>0</td>\n      <td>0</td>\n      <td>0</td>\n      <td>0</td>\n      <td>0</td>\n      <td>0</td>\n      <td>0</td>\n      <td>0</td>\n      <td>0</td>\n    </tr>\n    <tr>\n      <th>2731643</th>\n      <td>2020-03-20</td>\n      <td>1</td>\n      <td>0</td>\n      <td>0</td>\n      <td>0</td>\n      <td>0</td>\n      <td>0</td>\n      <td>0</td>\n      <td>1</td>\n      <td>3</td>\n    </tr>\n    <tr>\n      <th>2731644</th>\n      <td>2020-03-20</td>\n      <td>0</td>\n      <td>0</td>\n      <td>0</td>\n      <td>0</td>\n      <td>0</td>\n      <td>0</td>\n      <td>0</td>\n      <td>0</td>\n      <td>0</td>\n    </tr>\n    <tr>\n      <th>2731647</th>\n      <td>2020-03-20</td>\n      <td>0</td>\n      <td>0</td>\n      <td>0</td>\n      <td>0</td>\n      <td>0</td>\n      <td>0</td>\n      <td>0</td>\n      <td>0</td>\n      <td>0</td>\n    </tr>\n  </tbody>\n</table>\n<p>2151898 rows × 10 columns</p>\n</div>"
     },
     "metadata": {},
     "execution_count": 39
    }
   ],
   "source": [
    "data.resultado.replace({\"positive\": 1, \"negative\": 0}, inplace = True)\n",
    "data.sesenta_mas.replace({\"Yes\": 1, \"No\": 0}, inplace = True)\n",
    "data.sexo.replace({\"male\": 1, \"female\": 0}, inplace = True)\n",
    "data.indicaciones.replace({\"Contact with confirmed\": 3, \"Abroad\": 1, \"Other\": 0}, inplace = True)\n",
    "data"
   ]
  },
  {
   "cell_type": "code",
   "execution_count": 40,
   "metadata": {},
   "outputs": [],
   "source": [
    "from sklearn.model_selection import train_test_split\n",
    "X = data.drop([\"resultado\", \"fecha\"],axis = 1)\n",
    "y = data.resultado\n",
    "X_train, X_test, y_train, y_test = train_test_split(X, y, test_size=0.25)"
   ]
  },
  {
   "cell_type": "code",
   "execution_count": 41,
   "metadata": {},
   "outputs": [],
   "source": [
    "from sklearn.linear_model import LogisticRegression\n",
    "\n",
    "logisticRegr = LogisticRegression(max_iter = 10000, tol=0.005) #lr=0.0001"
   ]
  },
  {
   "cell_type": "code",
   "execution_count": 42,
   "metadata": {},
   "outputs": [
    {
     "output_type": "execute_result",
     "data": {
      "text/plain": [
       "LogisticRegression(max_iter=10000, tol=0.005)"
      ]
     },
     "metadata": {},
     "execution_count": 42
    }
   ],
   "source": [
    "logisticRegr.fit(X_train, y_train)"
   ]
  },
  {
   "cell_type": "code",
   "execution_count": 47,
   "metadata": {},
   "outputs": [
    {
     "output_type": "stream",
     "name": "stdout",
     "text": [
      "[[0.43443203 1.61180209 1.34435879 1.56668861 1.94296117 0.1372441\n  0.19921282 0.92519066]]\n[-3.12751699]\n"
     ]
    }
   ],
   "source": [
    "print(logisticRegr.coef_)\n",
    "print(logisticRegr.intercept_)"
   ]
  },
  {
   "cell_type": "code",
   "execution_count": 43,
   "metadata": {},
   "outputs": [
    {
     "output_type": "display_data",
     "data": {
      "text/plain": "<Figure size 216x216 with 1 Axes>",
      "image/svg+xml": "<?xml version=\"1.0\" encoding=\"utf-8\" standalone=\"no\"?>\r\n<!DOCTYPE svg PUBLIC \"-//W3C//DTD SVG 1.1//EN\"\r\n  \"http://www.w3.org/Graphics/SVG/1.1/DTD/svg11.dtd\">\r\n<svg height=\"208.15625pt\" version=\"1.1\" viewBox=\"0 0 204.840625 208.15625\" width=\"204.840625pt\" xmlns=\"http://www.w3.org/2000/svg\" xmlns:xlink=\"http://www.w3.org/1999/xlink\">\r\n <metadata>\r\n  <rdf:RDF xmlns:cc=\"http://creativecommons.org/ns#\" xmlns:dc=\"http://purl.org/dc/elements/1.1/\" xmlns:rdf=\"http://www.w3.org/1999/02/22-rdf-syntax-ns#\">\r\n   <cc:Work>\r\n    <dc:type rdf:resource=\"http://purl.org/dc/dcmitype/StillImage\"/>\r\n    <dc:date>2021-07-06T17:15:53.528470</dc:date>\r\n    <dc:format>image/svg+xml</dc:format>\r\n    <dc:creator>\r\n     <cc:Agent>\r\n      <dc:title>Matplotlib v3.4.2, https://matplotlib.org/</dc:title>\r\n     </cc:Agent>\r\n    </dc:creator>\r\n   </cc:Work>\r\n  </rdf:RDF>\r\n </metadata>\r\n <defs>\r\n  <style type=\"text/css\">*{stroke-linecap:butt;stroke-linejoin:round;}</style>\r\n </defs>\r\n <g id=\"figure_1\">\r\n  <g id=\"patch_1\">\r\n   <path d=\"M 0 208.15625 \r\nL 204.840625 208.15625 \r\nL 204.840625 0 \r\nL 0 0 \r\nz\r\n\" style=\"fill:none;\"/>\r\n  </g>\r\n  <g id=\"axes_1\">\r\n   <g id=\"patch_2\">\r\n    <path d=\"M 34.240625 170.6 \r\nL 197.640625 170.6 \r\nL 197.640625 7.2 \r\nL 34.240625 7.2 \r\nz\r\n\" style=\"fill:#ffffff;\"/>\r\n   </g>\r\n   <g clip-path=\"url(#p1f370ff02d)\">\r\n    <image height=\"164\" id=\"image33b12fc1c6\" transform=\"scale(1 -1)translate(0 -164)\" width=\"164\" x=\"34.240625\" xlink:href=\"data:image/png;base64,\r\niVBORw0KGgoAAAANSUhEUgAAAKQAAACkCAYAAAAZtYVBAAAB70lEQVR4nO3UsQ3CQAAEQQwSgm7cF+24KzohQSIksVNygl+9Ziq4YHXL6/PdT/ztfr2MnjCF8+gB8EuQpAiSFEGSIkhSBEmKIEkRJCmCJEWQpAiSFEGSIkhSBEmKIEkRJCmCJEWQpAiSFEGSIkhSBEmKIEkRJCmCJEWQpAiSFEGSIkhSBEmKIEkRJCmCJEWQpAiSFEGSIkhSBEmKIEkRJCmCJEWQpAiSFEGSIkhSBEmKIEkRJCmCJEWQpAiSFEGSIkhSBEmKIEkRJCmCJEWQpAiSFEGSIkhSBEmKIEkRJCmCJEWQpAiSFEGSIkhSBEmKIEkRJCmCJEWQpAiSFEGSIkhSBEmKIEkRJCmCJGW5rY999IgZvJ/b6AlT8JCkCJIUQZIiSFIESYogSREkKYIkRZCkCJIUQZIiSFIESYogSREkKYIkRZCkCJIUQZIiSFIESYogSREkKYIkRZCkCJIUQZIiSFIESYogSREkKYIkRZCkCJIUQZIiSFIESYogSREkKYIkRZCkCJIUQZIiSFIESYogSREkKYIkRZCkCJIUQZIiSFIESYogSREkKYIkRZCkCJIUQZIiSFIESYogSREkKYIkRZCkCJIUQZIiSFIESYogSREkKYIkRZCkCJIUQZIiSFIESYogSREkKYIkRZCkHAzfCR5S5BysAAAAAElFTkSuQmCC\" y=\"-6.6\"/>\r\n   </g>\r\n   <g id=\"matplotlib.axis_1\">\r\n    <g id=\"xtick_1\">\r\n     <g id=\"line2d_1\">\r\n      <defs>\r\n       <path d=\"M 0 0 \r\nL 0 3.5 \r\n\" id=\"md1449efa75\" style=\"stroke:#000000;stroke-width:0.8;\"/>\r\n      </defs>\r\n      <g>\r\n       <use style=\"stroke:#000000;stroke-width:0.8;\" x=\"75.090625\" xlink:href=\"#md1449efa75\" y=\"170.6\"/>\r\n      </g>\r\n     </g>\r\n     <g id=\"text_1\">\r\n      <!-- 0 -->\r\n      <g transform=\"translate(71.909375 185.198438)scale(0.1 -0.1)\">\r\n       <defs>\r\n        <path d=\"M 2034 4250 \r\nQ 1547 4250 1301 3770 \r\nQ 1056 3291 1056 2328 \r\nQ 1056 1369 1301 889 \r\nQ 1547 409 2034 409 \r\nQ 2525 409 2770 889 \r\nQ 3016 1369 3016 2328 \r\nQ 3016 3291 2770 3770 \r\nQ 2525 4250 2034 4250 \r\nz\r\nM 2034 4750 \r\nQ 2819 4750 3233 4129 \r\nQ 3647 3509 3647 2328 \r\nQ 3647 1150 3233 529 \r\nQ 2819 -91 2034 -91 \r\nQ 1250 -91 836 529 \r\nQ 422 1150 422 2328 \r\nQ 422 3509 836 4129 \r\nQ 1250 4750 2034 4750 \r\nz\r\n\" id=\"DejaVuSans-30\" transform=\"scale(0.015625)\"/>\r\n       </defs>\r\n       <use xlink:href=\"#DejaVuSans-30\"/>\r\n      </g>\r\n     </g>\r\n    </g>\r\n    <g id=\"xtick_2\">\r\n     <g id=\"line2d_2\">\r\n      <g>\r\n       <use style=\"stroke:#000000;stroke-width:0.8;\" x=\"156.790625\" xlink:href=\"#md1449efa75\" y=\"170.6\"/>\r\n      </g>\r\n     </g>\r\n     <g id=\"text_2\">\r\n      <!-- 1 -->\r\n      <g transform=\"translate(153.609375 185.198438)scale(0.1 -0.1)\">\r\n       <defs>\r\n        <path d=\"M 794 531 \r\nL 1825 531 \r\nL 1825 4091 \r\nL 703 3866 \r\nL 703 4441 \r\nL 1819 4666 \r\nL 2450 4666 \r\nL 2450 531 \r\nL 3481 531 \r\nL 3481 0 \r\nL 794 0 \r\nL 794 531 \r\nz\r\n\" id=\"DejaVuSans-31\" transform=\"scale(0.015625)\"/>\r\n       </defs>\r\n       <use xlink:href=\"#DejaVuSans-31\"/>\r\n      </g>\r\n     </g>\r\n    </g>\r\n    <g id=\"text_3\">\r\n     <!-- predicted label -->\r\n     <g transform=\"translate(78.541406 198.876563)scale(0.1 -0.1)\">\r\n      <defs>\r\n       <path d=\"M 1159 525 \r\nL 1159 -1331 \r\nL 581 -1331 \r\nL 581 3500 \r\nL 1159 3500 \r\nL 1159 2969 \r\nQ 1341 3281 1617 3432 \r\nQ 1894 3584 2278 3584 \r\nQ 2916 3584 3314 3078 \r\nQ 3713 2572 3713 1747 \r\nQ 3713 922 3314 415 \r\nQ 2916 -91 2278 -91 \r\nQ 1894 -91 1617 61 \r\nQ 1341 213 1159 525 \r\nz\r\nM 3116 1747 \r\nQ 3116 2381 2855 2742 \r\nQ 2594 3103 2138 3103 \r\nQ 1681 3103 1420 2742 \r\nQ 1159 2381 1159 1747 \r\nQ 1159 1113 1420 752 \r\nQ 1681 391 2138 391 \r\nQ 2594 391 2855 752 \r\nQ 3116 1113 3116 1747 \r\nz\r\n\" id=\"DejaVuSans-70\" transform=\"scale(0.015625)\"/>\r\n       <path d=\"M 2631 2963 \r\nQ 2534 3019 2420 3045 \r\nQ 2306 3072 2169 3072 \r\nQ 1681 3072 1420 2755 \r\nQ 1159 2438 1159 1844 \r\nL 1159 0 \r\nL 581 0 \r\nL 581 3500 \r\nL 1159 3500 \r\nL 1159 2956 \r\nQ 1341 3275 1631 3429 \r\nQ 1922 3584 2338 3584 \r\nQ 2397 3584 2469 3576 \r\nQ 2541 3569 2628 3553 \r\nL 2631 2963 \r\nz\r\n\" id=\"DejaVuSans-72\" transform=\"scale(0.015625)\"/>\r\n       <path d=\"M 3597 1894 \r\nL 3597 1613 \r\nL 953 1613 \r\nQ 991 1019 1311 708 \r\nQ 1631 397 2203 397 \r\nQ 2534 397 2845 478 \r\nQ 3156 559 3463 722 \r\nL 3463 178 \r\nQ 3153 47 2828 -22 \r\nQ 2503 -91 2169 -91 \r\nQ 1331 -91 842 396 \r\nQ 353 884 353 1716 \r\nQ 353 2575 817 3079 \r\nQ 1281 3584 2069 3584 \r\nQ 2775 3584 3186 3129 \r\nQ 3597 2675 3597 1894 \r\nz\r\nM 3022 2063 \r\nQ 3016 2534 2758 2815 \r\nQ 2500 3097 2075 3097 \r\nQ 1594 3097 1305 2825 \r\nQ 1016 2553 972 2059 \r\nL 3022 2063 \r\nz\r\n\" id=\"DejaVuSans-65\" transform=\"scale(0.015625)\"/>\r\n       <path d=\"M 2906 2969 \r\nL 2906 4863 \r\nL 3481 4863 \r\nL 3481 0 \r\nL 2906 0 \r\nL 2906 525 \r\nQ 2725 213 2448 61 \r\nQ 2172 -91 1784 -91 \r\nQ 1150 -91 751 415 \r\nQ 353 922 353 1747 \r\nQ 353 2572 751 3078 \r\nQ 1150 3584 1784 3584 \r\nQ 2172 3584 2448 3432 \r\nQ 2725 3281 2906 2969 \r\nz\r\nM 947 1747 \r\nQ 947 1113 1208 752 \r\nQ 1469 391 1925 391 \r\nQ 2381 391 2643 752 \r\nQ 2906 1113 2906 1747 \r\nQ 2906 2381 2643 2742 \r\nQ 2381 3103 1925 3103 \r\nQ 1469 3103 1208 2742 \r\nQ 947 2381 947 1747 \r\nz\r\n\" id=\"DejaVuSans-64\" transform=\"scale(0.015625)\"/>\r\n       <path d=\"M 603 3500 \r\nL 1178 3500 \r\nL 1178 0 \r\nL 603 0 \r\nL 603 3500 \r\nz\r\nM 603 4863 \r\nL 1178 4863 \r\nL 1178 4134 \r\nL 603 4134 \r\nL 603 4863 \r\nz\r\n\" id=\"DejaVuSans-69\" transform=\"scale(0.015625)\"/>\r\n       <path d=\"M 3122 3366 \r\nL 3122 2828 \r\nQ 2878 2963 2633 3030 \r\nQ 2388 3097 2138 3097 \r\nQ 1578 3097 1268 2742 \r\nQ 959 2388 959 1747 \r\nQ 959 1106 1268 751 \r\nQ 1578 397 2138 397 \r\nQ 2388 397 2633 464 \r\nQ 2878 531 3122 666 \r\nL 3122 134 \r\nQ 2881 22 2623 -34 \r\nQ 2366 -91 2075 -91 \r\nQ 1284 -91 818 406 \r\nQ 353 903 353 1747 \r\nQ 353 2603 823 3093 \r\nQ 1294 3584 2113 3584 \r\nQ 2378 3584 2631 3529 \r\nQ 2884 3475 3122 3366 \r\nz\r\n\" id=\"DejaVuSans-63\" transform=\"scale(0.015625)\"/>\r\n       <path d=\"M 1172 4494 \r\nL 1172 3500 \r\nL 2356 3500 \r\nL 2356 3053 \r\nL 1172 3053 \r\nL 1172 1153 \r\nQ 1172 725 1289 603 \r\nQ 1406 481 1766 481 \r\nL 2356 481 \r\nL 2356 0 \r\nL 1766 0 \r\nQ 1100 0 847 248 \r\nQ 594 497 594 1153 \r\nL 594 3053 \r\nL 172 3053 \r\nL 172 3500 \r\nL 594 3500 \r\nL 594 4494 \r\nL 1172 4494 \r\nz\r\n\" id=\"DejaVuSans-74\" transform=\"scale(0.015625)\"/>\r\n       <path id=\"DejaVuSans-20\" transform=\"scale(0.015625)\"/>\r\n       <path d=\"M 603 4863 \r\nL 1178 4863 \r\nL 1178 0 \r\nL 603 0 \r\nL 603 4863 \r\nz\r\n\" id=\"DejaVuSans-6c\" transform=\"scale(0.015625)\"/>\r\n       <path d=\"M 2194 1759 \r\nQ 1497 1759 1228 1600 \r\nQ 959 1441 959 1056 \r\nQ 959 750 1161 570 \r\nQ 1363 391 1709 391 \r\nQ 2188 391 2477 730 \r\nQ 2766 1069 2766 1631 \r\nL 2766 1759 \r\nL 2194 1759 \r\nz\r\nM 3341 1997 \r\nL 3341 0 \r\nL 2766 0 \r\nL 2766 531 \r\nQ 2569 213 2275 61 \r\nQ 1981 -91 1556 -91 \r\nQ 1019 -91 701 211 \r\nQ 384 513 384 1019 \r\nQ 384 1609 779 1909 \r\nQ 1175 2209 1959 2209 \r\nL 2766 2209 \r\nL 2766 2266 \r\nQ 2766 2663 2505 2880 \r\nQ 2244 3097 1772 3097 \r\nQ 1472 3097 1187 3025 \r\nQ 903 2953 641 2809 \r\nL 641 3341 \r\nQ 956 3463 1253 3523 \r\nQ 1550 3584 1831 3584 \r\nQ 2591 3584 2966 3190 \r\nQ 3341 2797 3341 1997 \r\nz\r\n\" id=\"DejaVuSans-61\" transform=\"scale(0.015625)\"/>\r\n       <path d=\"M 3116 1747 \r\nQ 3116 2381 2855 2742 \r\nQ 2594 3103 2138 3103 \r\nQ 1681 3103 1420 2742 \r\nQ 1159 2381 1159 1747 \r\nQ 1159 1113 1420 752 \r\nQ 1681 391 2138 391 \r\nQ 2594 391 2855 752 \r\nQ 3116 1113 3116 1747 \r\nz\r\nM 1159 2969 \r\nQ 1341 3281 1617 3432 \r\nQ 1894 3584 2278 3584 \r\nQ 2916 3584 3314 3078 \r\nQ 3713 2572 3713 1747 \r\nQ 3713 922 3314 415 \r\nQ 2916 -91 2278 -91 \r\nQ 1894 -91 1617 61 \r\nQ 1341 213 1159 525 \r\nL 1159 0 \r\nL 581 0 \r\nL 581 4863 \r\nL 1159 4863 \r\nL 1159 2969 \r\nz\r\n\" id=\"DejaVuSans-62\" transform=\"scale(0.015625)\"/>\r\n      </defs>\r\n      <use xlink:href=\"#DejaVuSans-70\"/>\r\n      <use x=\"63.476562\" xlink:href=\"#DejaVuSans-72\"/>\r\n      <use x=\"102.339844\" xlink:href=\"#DejaVuSans-65\"/>\r\n      <use x=\"163.863281\" xlink:href=\"#DejaVuSans-64\"/>\r\n      <use x=\"227.339844\" xlink:href=\"#DejaVuSans-69\"/>\r\n      <use x=\"255.123047\" xlink:href=\"#DejaVuSans-63\"/>\r\n      <use x=\"310.103516\" xlink:href=\"#DejaVuSans-74\"/>\r\n      <use x=\"349.3125\" xlink:href=\"#DejaVuSans-65\"/>\r\n      <use x=\"410.835938\" xlink:href=\"#DejaVuSans-64\"/>\r\n      <use x=\"474.3125\" xlink:href=\"#DejaVuSans-20\"/>\r\n      <use x=\"506.099609\" xlink:href=\"#DejaVuSans-6c\"/>\r\n      <use x=\"533.882812\" xlink:href=\"#DejaVuSans-61\"/>\r\n      <use x=\"595.162109\" xlink:href=\"#DejaVuSans-62\"/>\r\n      <use x=\"658.638672\" xlink:href=\"#DejaVuSans-65\"/>\r\n      <use x=\"720.162109\" xlink:href=\"#DejaVuSans-6c\"/>\r\n     </g>\r\n    </g>\r\n   </g>\r\n   <g id=\"matplotlib.axis_2\">\r\n    <g id=\"ytick_1\">\r\n     <g id=\"line2d_3\">\r\n      <defs>\r\n       <path d=\"M 0 0 \r\nL -3.5 0 \r\n\" id=\"m84fa626129\" style=\"stroke:#000000;stroke-width:0.8;\"/>\r\n      </defs>\r\n      <g>\r\n       <use style=\"stroke:#000000;stroke-width:0.8;\" x=\"34.240625\" xlink:href=\"#m84fa626129\" y=\"48.05\"/>\r\n      </g>\r\n     </g>\r\n     <g id=\"text_4\">\r\n      <!-- 0 -->\r\n      <g transform=\"translate(20.878125 51.849219)scale(0.1 -0.1)\">\r\n       <use xlink:href=\"#DejaVuSans-30\"/>\r\n      </g>\r\n     </g>\r\n    </g>\r\n    <g id=\"ytick_2\">\r\n     <g id=\"line2d_4\">\r\n      <g>\r\n       <use style=\"stroke:#000000;stroke-width:0.8;\" x=\"34.240625\" xlink:href=\"#m84fa626129\" y=\"129.75\"/>\r\n      </g>\r\n     </g>\r\n     <g id=\"text_5\">\r\n      <!-- 1 -->\r\n      <g transform=\"translate(20.878125 133.549219)scale(0.1 -0.1)\">\r\n       <use xlink:href=\"#DejaVuSans-31\"/>\r\n      </g>\r\n     </g>\r\n    </g>\r\n    <g id=\"text_6\">\r\n     <!-- true label -->\r\n     <g transform=\"translate(14.798438 112.842969)rotate(-90)scale(0.1 -0.1)\">\r\n      <defs>\r\n       <path d=\"M 544 1381 \r\nL 544 3500 \r\nL 1119 3500 \r\nL 1119 1403 \r\nQ 1119 906 1312 657 \r\nQ 1506 409 1894 409 \r\nQ 2359 409 2629 706 \r\nQ 2900 1003 2900 1516 \r\nL 2900 3500 \r\nL 3475 3500 \r\nL 3475 0 \r\nL 2900 0 \r\nL 2900 538 \r\nQ 2691 219 2414 64 \r\nQ 2138 -91 1772 -91 \r\nQ 1169 -91 856 284 \r\nQ 544 659 544 1381 \r\nz\r\nM 1991 3584 \r\nL 1991 3584 \r\nz\r\n\" id=\"DejaVuSans-75\" transform=\"scale(0.015625)\"/>\r\n      </defs>\r\n      <use xlink:href=\"#DejaVuSans-74\"/>\r\n      <use x=\"39.208984\" xlink:href=\"#DejaVuSans-72\"/>\r\n      <use x=\"80.322266\" xlink:href=\"#DejaVuSans-75\"/>\r\n      <use x=\"143.701172\" xlink:href=\"#DejaVuSans-65\"/>\r\n      <use x=\"205.224609\" xlink:href=\"#DejaVuSans-20\"/>\r\n      <use x=\"237.011719\" xlink:href=\"#DejaVuSans-6c\"/>\r\n      <use x=\"264.794922\" xlink:href=\"#DejaVuSans-61\"/>\r\n      <use x=\"326.074219\" xlink:href=\"#DejaVuSans-62\"/>\r\n      <use x=\"389.550781\" xlink:href=\"#DejaVuSans-65\"/>\r\n      <use x=\"451.074219\" xlink:href=\"#DejaVuSans-6c\"/>\r\n     </g>\r\n    </g>\r\n   </g>\r\n   <g id=\"patch_3\">\r\n    <path d=\"M 34.240625 170.6 \r\nL 34.240625 7.2 \r\n\" style=\"fill:none;stroke:#000000;stroke-linecap:square;stroke-linejoin:miter;stroke-width:0.8;\"/>\r\n   </g>\r\n   <g id=\"patch_4\">\r\n    <path d=\"M 197.640625 170.6 \r\nL 197.640625 7.2 \r\n\" style=\"fill:none;stroke:#000000;stroke-linecap:square;stroke-linejoin:miter;stroke-width:0.8;\"/>\r\n   </g>\r\n   <g id=\"patch_5\">\r\n    <path d=\"M 34.240625 170.6 \r\nL 197.640625 170.6 \r\n\" style=\"fill:none;stroke:#000000;stroke-linecap:square;stroke-linejoin:miter;stroke-width:0.8;\"/>\r\n   </g>\r\n   <g id=\"patch_6\">\r\n    <path d=\"M 34.240625 7.2 \r\nL 197.640625 7.2 \r\n\" style=\"fill:none;stroke:#000000;stroke-linecap:square;stroke-linejoin:miter;stroke-width:0.8;\"/>\r\n   </g>\r\n   <g id=\"text_7\">\r\n    <!-- 478969 -->\r\n    <g style=\"fill:#ffffff;\" transform=\"translate(56.003125 50.809375)scale(0.1 -0.1)\">\r\n     <defs>\r\n      <path d=\"M 2419 4116 \r\nL 825 1625 \r\nL 2419 1625 \r\nL 2419 4116 \r\nz\r\nM 2253 4666 \r\nL 3047 4666 \r\nL 3047 1625 \r\nL 3713 1625 \r\nL 3713 1100 \r\nL 3047 1100 \r\nL 3047 0 \r\nL 2419 0 \r\nL 2419 1100 \r\nL 313 1100 \r\nL 313 1709 \r\nL 2253 4666 \r\nz\r\n\" id=\"DejaVuSans-34\" transform=\"scale(0.015625)\"/>\r\n      <path d=\"M 525 4666 \r\nL 3525 4666 \r\nL 3525 4397 \r\nL 1831 0 \r\nL 1172 0 \r\nL 2766 4134 \r\nL 525 4134 \r\nL 525 4666 \r\nz\r\n\" id=\"DejaVuSans-37\" transform=\"scale(0.015625)\"/>\r\n      <path d=\"M 2034 2216 \r\nQ 1584 2216 1326 1975 \r\nQ 1069 1734 1069 1313 \r\nQ 1069 891 1326 650 \r\nQ 1584 409 2034 409 \r\nQ 2484 409 2743 651 \r\nQ 3003 894 3003 1313 \r\nQ 3003 1734 2745 1975 \r\nQ 2488 2216 2034 2216 \r\nz\r\nM 1403 2484 \r\nQ 997 2584 770 2862 \r\nQ 544 3141 544 3541 \r\nQ 544 4100 942 4425 \r\nQ 1341 4750 2034 4750 \r\nQ 2731 4750 3128 4425 \r\nQ 3525 4100 3525 3541 \r\nQ 3525 3141 3298 2862 \r\nQ 3072 2584 2669 2484 \r\nQ 3125 2378 3379 2068 \r\nQ 3634 1759 3634 1313 \r\nQ 3634 634 3220 271 \r\nQ 2806 -91 2034 -91 \r\nQ 1263 -91 848 271 \r\nQ 434 634 434 1313 \r\nQ 434 1759 690 2068 \r\nQ 947 2378 1403 2484 \r\nz\r\nM 1172 3481 \r\nQ 1172 3119 1398 2916 \r\nQ 1625 2713 2034 2713 \r\nQ 2441 2713 2670 2916 \r\nQ 2900 3119 2900 3481 \r\nQ 2900 3844 2670 4047 \r\nQ 2441 4250 2034 4250 \r\nQ 1625 4250 1398 4047 \r\nQ 1172 3844 1172 3481 \r\nz\r\n\" id=\"DejaVuSans-38\" transform=\"scale(0.015625)\"/>\r\n      <path d=\"M 703 97 \r\nL 703 672 \r\nQ 941 559 1184 500 \r\nQ 1428 441 1663 441 \r\nQ 2288 441 2617 861 \r\nQ 2947 1281 2994 2138 \r\nQ 2813 1869 2534 1725 \r\nQ 2256 1581 1919 1581 \r\nQ 1219 1581 811 2004 \r\nQ 403 2428 403 3163 \r\nQ 403 3881 828 4315 \r\nQ 1253 4750 1959 4750 \r\nQ 2769 4750 3195 4129 \r\nQ 3622 3509 3622 2328 \r\nQ 3622 1225 3098 567 \r\nQ 2575 -91 1691 -91 \r\nQ 1453 -91 1209 -44 \r\nQ 966 3 703 97 \r\nz\r\nM 1959 2075 \r\nQ 2384 2075 2632 2365 \r\nQ 2881 2656 2881 3163 \r\nQ 2881 3666 2632 3958 \r\nQ 2384 4250 1959 4250 \r\nQ 1534 4250 1286 3958 \r\nQ 1038 3666 1038 3163 \r\nQ 1038 2656 1286 2365 \r\nQ 1534 2075 1959 2075 \r\nz\r\n\" id=\"DejaVuSans-39\" transform=\"scale(0.015625)\"/>\r\n      <path d=\"M 2113 2584 \r\nQ 1688 2584 1439 2293 \r\nQ 1191 2003 1191 1497 \r\nQ 1191 994 1439 701 \r\nQ 1688 409 2113 409 \r\nQ 2538 409 2786 701 \r\nQ 3034 994 3034 1497 \r\nQ 3034 2003 2786 2293 \r\nQ 2538 2584 2113 2584 \r\nz\r\nM 3366 4563 \r\nL 3366 3988 \r\nQ 3128 4100 2886 4159 \r\nQ 2644 4219 2406 4219 \r\nQ 1781 4219 1451 3797 \r\nQ 1122 3375 1075 2522 \r\nQ 1259 2794 1537 2939 \r\nQ 1816 3084 2150 3084 \r\nQ 2853 3084 3261 2657 \r\nQ 3669 2231 3669 1497 \r\nQ 3669 778 3244 343 \r\nQ 2819 -91 2113 -91 \r\nQ 1303 -91 875 529 \r\nQ 447 1150 447 2328 \r\nQ 447 3434 972 4092 \r\nQ 1497 4750 2381 4750 \r\nQ 2619 4750 2861 4703 \r\nQ 3103 4656 3366 4563 \r\nz\r\n\" id=\"DejaVuSans-36\" transform=\"scale(0.015625)\"/>\r\n     </defs>\r\n     <use xlink:href=\"#DejaVuSans-34\"/>\r\n     <use x=\"63.623047\" xlink:href=\"#DejaVuSans-37\"/>\r\n     <use x=\"127.246094\" xlink:href=\"#DejaVuSans-38\"/>\r\n     <use x=\"190.869141\" xlink:href=\"#DejaVuSans-39\"/>\r\n     <use x=\"254.492188\" xlink:href=\"#DejaVuSans-36\"/>\r\n     <use x=\"318.115234\" xlink:href=\"#DejaVuSans-39\"/>\r\n    </g>\r\n   </g>\r\n   <g id=\"text_8\">\r\n    <!-- 6759 -->\r\n    <g transform=\"translate(144.065625 50.809375)scale(0.1 -0.1)\">\r\n     <defs>\r\n      <path d=\"M 691 4666 \r\nL 3169 4666 \r\nL 3169 4134 \r\nL 1269 4134 \r\nL 1269 2991 \r\nQ 1406 3038 1543 3061 \r\nQ 1681 3084 1819 3084 \r\nQ 2600 3084 3056 2656 \r\nQ 3513 2228 3513 1497 \r\nQ 3513 744 3044 326 \r\nQ 2575 -91 1722 -91 \r\nQ 1428 -91 1123 -41 \r\nQ 819 9 494 109 \r\nL 494 744 \r\nQ 775 591 1075 516 \r\nQ 1375 441 1709 441 \r\nQ 2250 441 2565 725 \r\nQ 2881 1009 2881 1497 \r\nQ 2881 1984 2565 2268 \r\nQ 2250 2553 1709 2553 \r\nQ 1456 2553 1204 2497 \r\nQ 953 2441 691 2322 \r\nL 691 4666 \r\nz\r\n\" id=\"DejaVuSans-35\" transform=\"scale(0.015625)\"/>\r\n     </defs>\r\n     <use xlink:href=\"#DejaVuSans-36\"/>\r\n     <use x=\"63.623047\" xlink:href=\"#DejaVuSans-37\"/>\r\n     <use x=\"127.246094\" xlink:href=\"#DejaVuSans-35\"/>\r\n     <use x=\"190.869141\" xlink:href=\"#DejaVuSans-39\"/>\r\n    </g>\r\n   </g>\r\n   <g id=\"text_9\">\r\n    <!-- 36854 -->\r\n    <g transform=\"translate(59.184375 132.509375)scale(0.1 -0.1)\">\r\n     <defs>\r\n      <path d=\"M 2597 2516 \r\nQ 3050 2419 3304 2112 \r\nQ 3559 1806 3559 1356 \r\nQ 3559 666 3084 287 \r\nQ 2609 -91 1734 -91 \r\nQ 1441 -91 1130 -33 \r\nQ 819 25 488 141 \r\nL 488 750 \r\nQ 750 597 1062 519 \r\nQ 1375 441 1716 441 \r\nQ 2309 441 2620 675 \r\nQ 2931 909 2931 1356 \r\nQ 2931 1769 2642 2001 \r\nQ 2353 2234 1838 2234 \r\nL 1294 2234 \r\nL 1294 2753 \r\nL 1863 2753 \r\nQ 2328 2753 2575 2939 \r\nQ 2822 3125 2822 3475 \r\nQ 2822 3834 2567 4026 \r\nQ 2313 4219 1838 4219 \r\nQ 1578 4219 1281 4162 \r\nQ 984 4106 628 3988 \r\nL 628 4550 \r\nQ 988 4650 1302 4700 \r\nQ 1616 4750 1894 4750 \r\nQ 2613 4750 3031 4423 \r\nQ 3450 4097 3450 3541 \r\nQ 3450 3153 3228 2886 \r\nQ 3006 2619 2597 2516 \r\nz\r\n\" id=\"DejaVuSans-33\" transform=\"scale(0.015625)\"/>\r\n     </defs>\r\n     <use xlink:href=\"#DejaVuSans-33\"/>\r\n     <use x=\"63.623047\" xlink:href=\"#DejaVuSans-36\"/>\r\n     <use x=\"127.246094\" xlink:href=\"#DejaVuSans-38\"/>\r\n     <use x=\"190.869141\" xlink:href=\"#DejaVuSans-35\"/>\r\n     <use x=\"254.492188\" xlink:href=\"#DejaVuSans-34\"/>\r\n    </g>\r\n   </g>\r\n   <g id=\"text_10\">\r\n    <!-- 15393 -->\r\n    <g transform=\"translate(140.884375 132.509375)scale(0.1 -0.1)\">\r\n     <use xlink:href=\"#DejaVuSans-31\"/>\r\n     <use x=\"63.623047\" xlink:href=\"#DejaVuSans-35\"/>\r\n     <use x=\"127.246094\" xlink:href=\"#DejaVuSans-33\"/>\r\n     <use x=\"190.869141\" xlink:href=\"#DejaVuSans-39\"/>\r\n     <use x=\"254.492188\" xlink:href=\"#DejaVuSans-33\"/>\r\n    </g>\r\n   </g>\r\n  </g>\r\n </g>\r\n <defs>\r\n  <clipPath id=\"p1f370ff02d\">\r\n   <rect height=\"163.4\" width=\"163.4\" x=\"34.240625\" y=\"7.2\"/>\r\n  </clipPath>\r\n </defs>\r\n</svg>\r\n",
      "image/png": "[encoded data removed]"
     },
     "metadata": {
      "needs_background": "light"
     }
    }
   ],
   "source": [
    "from mlxtend.plotting import plot_confusion_matrix\n",
    "from sklearn.metrics import confusion_matrix\n",
    "y_pred = logisticRegr.predict(X_test)\n",
    "matriz = confusion_matrix(y_test,y_pred)\n",
    "\n",
    "plot_confusion_matrix(conf_mat=matriz, figsize=(3,3), show_normed=False)\n",
    "plt.tight_layout()"
   ]
  },
  {
   "cell_type": "code",
   "execution_count": null,
   "metadata": {},
   "outputs": [],
   "source": []
  }
 ]
}